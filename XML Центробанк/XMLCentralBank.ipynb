{
 "cells": [
  {
   "cell_type": "code",
   "execution_count": 54,
   "metadata": {},
   "outputs": [
    {
     "name": "stdout",
     "output_type": "stream",
     "text": [
      "Введите начальную дату! Формат = DD/MM/YYYY\n",
      "Некректный формат даты! Должно быть: DD/MM/YYYY\n"
     ]
    },
    {
     "ename": "IndexError",
     "evalue": "list index out of range",
     "output_type": "error",
     "traceback": [
      "\u001b[1;31m---------------------------------------------------------------------------\u001b[0m",
      "\u001b[1;31mIndexError\u001b[0m                                Traceback (most recent call last)",
      "Cell \u001b[1;32mIn[54], line 44\u001b[0m\n\u001b[0;32m     42\u001b[0m \u001b[38;5;28mprint\u001b[39m(\u001b[38;5;124m\"\u001b[39m\u001b[38;5;124mВведите начальную дату! Формат = DD/MM/YYYY\u001b[39m\u001b[38;5;124m\"\u001b[39m)\n\u001b[0;32m     43\u001b[0m dateFrom \u001b[38;5;241m=\u001b[39m \u001b[38;5;28minput\u001b[39m()\n\u001b[1;32m---> 44\u001b[0m dateFromInType \u001b[38;5;241m=\u001b[39m \u001b[43mParseDateTime\u001b[49m\u001b[43m(\u001b[49m\u001b[43mdateFrom\u001b[49m\u001b[43m,\u001b[49m\u001b[43m \u001b[49m\u001b[43mseparator\u001b[49m\u001b[38;5;241;43m=\u001b[39;49m\u001b[43m \u001b[49m\u001b[38;5;124;43m\"\u001b[39;49m\u001b[38;5;124;43m/\u001b[39;49m\u001b[38;5;124;43m\"\u001b[39;49m\u001b[43m)\u001b[49m\n\u001b[0;32m     46\u001b[0m \u001b[38;5;28mprint\u001b[39m(\u001b[38;5;124m\"\u001b[39m\u001b[38;5;124mВведите конечную дату! Формат = DD/MM/YYYY\u001b[39m\u001b[38;5;124m\"\u001b[39m)\n\u001b[0;32m     47\u001b[0m dateTo \u001b[38;5;241m=\u001b[39m \u001b[38;5;28minput\u001b[39m()\n",
      "Cell \u001b[1;32mIn[54], line 12\u001b[0m, in \u001b[0;36mParseDateTime\u001b[1;34m(date, separator)\u001b[0m\n\u001b[0;32m      9\u001b[0m divide \u001b[38;5;241m=\u001b[39m date\u001b[38;5;241m.\u001b[39msplit(separator)\n\u001b[0;32m     11\u001b[0m \u001b[38;5;28;01mtry\u001b[39;00m:\n\u001b[1;32m---> 12\u001b[0m     \u001b[38;5;28;01mreturn\u001b[39;00m datetime\u001b[38;5;241m.\u001b[39mdatetime(\u001b[38;5;28mint\u001b[39m(\u001b[43mdivide\u001b[49m\u001b[43m[\u001b[49m\u001b[38;5;241;43m2\u001b[39;49m\u001b[43m]\u001b[49m), \u001b[38;5;28mint\u001b[39m(divide[\u001b[38;5;241m1\u001b[39m]), \u001b[38;5;28mint\u001b[39m(divide[\u001b[38;5;241m0\u001b[39m]))\n\u001b[0;32m     13\u001b[0m \u001b[38;5;28;01mexcept\u001b[39;00m \u001b[38;5;167;01mValueError\u001b[39;00m:\n\u001b[0;32m     14\u001b[0m     \u001b[38;5;28mprint\u001b[39m(\u001b[38;5;124m\"\u001b[39m\u001b[38;5;124mТакой даты не существует!\u001b[39m\u001b[38;5;124m\"\u001b[39m)\n",
      "\u001b[1;31mIndexError\u001b[0m: list index out of range"
     ]
    }
   ],
   "source": [
    "import requests\n",
    "import datetime\n",
    "import pandas as pd\n",
    "import xml.etree.ElementTree as ET\n",
    "\n",
    "pd.options.plotting.backend = \"plotly\"\n",
    "\n",
    "def ParseDateTime(date, separator = \".\"):\n",
    "    divide = date.split(separator)\n",
    "    \n",
    "    try:\n",
    "        return datetime.datetime(int(divide[2]), int(divide[1]), int(divide[0]))\n",
    "    except ValueError:\n",
    "        print(\"Такой даты не существует!\")\n",
    "        raise\n",
    "    except IndexError:\n",
    "        print(\"Некректный формат даты! Должно быть: DD/MM/YYYY\")\n",
    "        raise\n",
    "\n",
    "def GetValutaCodes():\n",
    "    url = \"https://cbr.ru/scripts/XML_val.asp?d=0\"\n",
    "\n",
    "    response = requests.post(url)\n",
    "\n",
    "    if response.status_code != 200:\n",
    "        print(\"Не удалось подключиться к сервису центробанка!\")\n",
    "        raise Exception\n",
    "    else:\n",
    "        root = ET.fromstring(response.content)\n",
    "\n",
    "        result = {}\n",
    "\n",
    "        for entry in root.findall(\"Item\"):\n",
    "            result[entry.find(\"ParentCode\").text.replace(\" \", \"\")] = entry.find(\"Name\").text\n",
    "\n",
    "        return result\n",
    "\n",
    "    \n",
    "\n",
    "valutasCodes = GetValutaCodes()\n",
    "\n",
    "print(\"Введите начальную дату! Формат = DD/MM/YYYY\")\n",
    "dateFrom = input()\n",
    "dateFromInType = ParseDateTime(dateFrom, separator= \"/\")\n",
    "\n",
    "print(\"Введите конечную дату! Формат = DD/MM/YYYY\")\n",
    "dateTo = input()\n",
    "dateToInType = ParseDateTime(dateTo, separator= \"/\")\n",
    "\n",
    "print(f\"Введите код валюты! Допустимые:\\n{valutasCodes}\")\n",
    "valutaCode = input()\n",
    "\n",
    "if dateToInType <= dateFromInType:\n",
    "    print(\"Конечная дата не может быть меньше или равной начальной!\")\n",
    "else:\n",
    "    valuta = valutasCodes.get(valutaCode)\n",
    "\n",
    "    if valuta == None:\n",
    "        print(f\"{valutaCode} - не существует валюты с таким кодом!\")\n",
    "    else:\n",
    "        url = f\"https://www.cbr.ru/scripts/XML_dynamic.asp?date_req1={dateFrom}&date_req2={dateTo}&VAL_NM_RQ={valutaCode}\"\n",
    "\n",
    "        response = requests.post(url)\n",
    "\n",
    "        if response.status_code != 200:\n",
    "            print(\"Не удалось подключиться к сервису центробанка!\")\n",
    "        else:\n",
    "            root = ET.fromstring(response.content)\n",
    "\n",
    "            rawData = {}\n",
    "\n",
    "            for entry in root.findall(\"Record\"):\n",
    "                rawData[ParseDateTime(entry.attrib[\"Date\"])] = float(entry.find('Value').text.replace(',', '.')) / int(entry.find(\"Nominal\").text)\n",
    "\n",
    "            dataFrame = pd.DataFrame.from_dict(rawData, orient= \"index\", columns= [valuta])\n",
    "\n",
    "            graph = dataFrame.plot(title=f\"Российский рубль - {valuta}\", template= \"plotly_dark\", \n",
    "                                   labels=dict(index=\"Дата\", value=\"Курс\", variable=\"Валюта\"))\n",
    "            \n",
    "            graph.update_yaxes(tickprefix=\"₽\")\n",
    "            graph.show()\n"
   ]
  }
 ],
 "metadata": {
  "kernelspec": {
   "display_name": "Python 3",
   "language": "python",
   "name": "python3"
  },
  "language_info": {
   "codemirror_mode": {
    "name": "ipython",
    "version": 3
   },
   "file_extension": ".py",
   "mimetype": "text/x-python",
   "name": "python",
   "nbconvert_exporter": "python",
   "pygments_lexer": "ipython3",
   "version": "3.13.0"
  }
 },
 "nbformat": 4,
 "nbformat_minor": 2
}
