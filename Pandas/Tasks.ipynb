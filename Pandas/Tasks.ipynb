{
 "cells": [
  {
   "cell_type": "markdown",
   "metadata": {},
   "source": [
    "Упражнение 1"
   ]
  },
  {
   "cell_type": "code",
   "execution_count": 1,
   "metadata": {},
   "outputs": [
    {
     "name": "stdout",
     "output_type": "stream",
     "text": [
      "0     a\n",
      "1     b\n",
      "2     c\n",
      "3     e\n",
      "4     d\n",
      "5     f\n",
      "6     g\n",
      "7     h\n",
      "8     i\n",
      "9     j\n",
      "10    k\n",
      "11    l\n",
      "12    m\n",
      "13    n\n",
      "14    o\n",
      "15    p\n",
      "16    q\n",
      "17    r\n",
      "18    s\n",
      "19    t\n",
      "20    u\n",
      "21    v\n",
      "22    w\n",
      "23    x\n",
      "24    y\n",
      "25    z\n",
      "dtype: object\n",
      "----------------------\n",
      "0      0\n",
      "1      1\n",
      "2      2\n",
      "3      3\n",
      "4      4\n",
      "5      5\n",
      "6      6\n",
      "7      7\n",
      "8      8\n",
      "9      9\n",
      "10    10\n",
      "11    11\n",
      "12    12\n",
      "13    13\n",
      "14    14\n",
      "15    15\n",
      "16    16\n",
      "17    17\n",
      "18    18\n",
      "19    19\n",
      "20    20\n",
      "21    21\n",
      "22    22\n",
      "23    23\n",
      "24    24\n",
      "25    25\n",
      "dtype: int64\n",
      "----------------------\n",
      "a     0\n",
      "b     1\n",
      "c     2\n",
      "e     3\n",
      "d     4\n",
      "f     5\n",
      "g     6\n",
      "h     7\n",
      "i     8\n",
      "j     9\n",
      "k    10\n",
      "l    11\n",
      "m    12\n",
      "n    13\n",
      "o    14\n",
      "p    15\n",
      "q    16\n",
      "r    17\n",
      "s    18\n",
      "t    19\n",
      "u    20\n",
      "v    21\n",
      "w    22\n",
      "x    23\n",
      "y    24\n",
      "z    25\n",
      "dtype: int64\n"
     ]
    }
   ],
   "source": [
    "import numpy as np\n",
    "import pandas as pd\n",
    "\n",
    "mylist = list('abcedfghijklmnopqrstuvwxyz')\n",
    "myarr = np.arange(26)\n",
    "mydict = dict(zip(mylist, myarr))\n",
    "\n",
    "print(pd.Series(mylist))\n",
    "print(\"----------------------\")\n",
    "print(pd.Series(myarr))\n",
    "print(\"----------------------\")\n",
    "print(pd.Series(mydict))"
   ]
  },
  {
   "cell_type": "markdown",
   "metadata": {},
   "source": [
    "Упражнение 2"
   ]
  },
  {
   "cell_type": "code",
   "execution_count": null,
   "metadata": {},
   "outputs": [
    {
     "name": "stdout",
     "output_type": "stream",
     "text": [
      "   Буквы  Значения\n",
      "0      a         0\n",
      "1      b         1\n",
      "2      c         2\n",
      "3      e         3\n",
      "4      d         4\n",
      "5      f         5\n",
      "6      g         6\n",
      "7      h         7\n",
      "8      i         8\n",
      "9      j         9\n",
      "10     k        10\n",
      "11     l        11\n",
      "12     m        12\n",
      "13     n        13\n",
      "14     o        14\n",
      "15     p        15\n",
      "16     q        16\n",
      "17     r        17\n",
      "18     s        18\n",
      "19     t        19\n",
      "20     u        20\n",
      "21     v        21\n",
      "22     w        22\n",
      "23     x        23\n",
      "24     y        24\n",
      "25     z        25\n"
     ]
    }
   ],
   "source": [
    "import numpy as np\n",
    "import pandas as pd\n",
    "\n",
    "mylist = list('abcedfghijklmnopqrstuvwxyz')\n",
    "myarr = np.arange(26)\n",
    "mydict = dict(zip(mylist, myarr))\n",
    "ser = pd.Series(mydict)\n",
    "\n",
    "dataFrame = ser.reset_index()\n",
    "dataFrame.columns = ['Буквы', \"Значения\"]\n",
    "print(dataFrame)"
   ]
  },
  {
   "cell_type": "markdown",
   "metadata": {},
   "source": [
    "Упражнение 3"
   ]
  },
  {
   "cell_type": "code",
   "execution_count": 21,
   "metadata": {},
   "outputs": [
    {
     "name": "stdout",
     "output_type": "stream",
     "text": [
      "   Буква  Индекс в своем алфавите\n",
      "0      a                        0\n",
      "1      b                        1\n",
      "2      c                        2\n",
      "3      e                        3\n",
      "4      d                        4\n",
      "5      f                        5\n",
      "6      g                        6\n",
      "7      h                        7\n",
      "8      i                        8\n",
      "9      j                        9\n",
      "10     k                       10\n",
      "11     l                       11\n",
      "12     m                       12\n",
      "13     n                       13\n",
      "14     o                       14\n",
      "15     p                       15\n",
      "16     q                       16\n",
      "17     r                       17\n",
      "18     s                       18\n",
      "19     t                       19\n",
      "20     u                       20\n",
      "21     v                       21\n",
      "22     w                       22\n",
      "23     x                       23\n",
      "24     y                       24\n",
      "25     z                       25\n",
      "26     А                        0\n",
      "27     Б                        1\n",
      "28     В                        2\n",
      "29     Г                        3\n",
      "30     Д                        4\n",
      "31     Е                        5\n",
      "32     Ё                        6\n",
      "33     Ж                        7\n",
      "34     З                        8\n",
      "35     И                        9\n",
      "36     Й                       10\n",
      "37     К                       11\n",
      "38     Л                       12\n",
      "39     М                       13\n",
      "40     Н                       14\n",
      "41     О                       15\n",
      "42     П                       16\n",
      "43     Р                       17\n",
      "44     С                       18\n",
      "45     Т                       19\n",
      "46     У                       20\n",
      "47     Ф                       21\n",
      "48     Х                       22\n",
      "49     Ц                       23\n",
      "50     Ч                       24\n",
      "51     Ш                       25\n",
      "52     Щ                       26\n",
      "53     Ъ                       27\n",
      "54     Ы                       28\n",
      "55     Ь                       29\n",
      "56     Э                       30\n",
      "57     Ю                       31\n",
      "58     Я                       32\n"
     ]
    }
   ],
   "source": [
    "import numpy as np\n",
    "import pandas as pd\n",
    "\n",
    "mylist = list('abcedfghijklmnopqrstuvwxyz')\n",
    "myarr = np.arange(26)\n",
    "mydict = dict(zip(mylist, myarr))\n",
    "ser1 = pd.Series(mydict)\n",
    "\n",
    "mylist2 = list('АБВГДЕЁЖЗИЙКЛМНОПРСТУФХЦЧШЩЪЫЬЭЮЯ')\n",
    "myarr2 = np.arange(33)\n",
    "mydict2 = dict(zip(mylist2, myarr2))\n",
    "ser2 = pd.Series(mydict2)\n",
    "\n",
    "\n",
    "df = pd.concat([ser1, ser2]).reset_index()\n",
    "df.columns = [\"Буква\", \"Индекс в своем алфавите\"]\n",
    "print(df)"
   ]
  },
  {
   "cell_type": "markdown",
   "metadata": {},
   "source": [
    "Упражнение 4"
   ]
  },
  {
   "cell_type": "code",
   "execution_count": 4,
   "metadata": {},
   "outputs": [
    {
     "name": "stdout",
     "output_type": "stream",
     "text": [
      "   Lattin Letters\n",
      "0               a\n",
      "1               b\n",
      "2               c\n",
      "3               e\n",
      "4               d\n",
      "5               f\n",
      "6               g\n",
      "7               h\n",
      "8               i\n",
      "9               j\n",
      "10              k\n",
      "11              l\n",
      "12              m\n",
      "13              n\n",
      "14              o\n",
      "15              p\n",
      "16              q\n",
      "17              r\n",
      "18              s\n",
      "19              t\n",
      "20              u\n",
      "21              v\n",
      "22              w\n",
      "23              x\n",
      "24              y\n",
      "25              z\n"
     ]
    }
   ],
   "source": [
    "import pandas as pd\n",
    "\n",
    "ser = pd.Series(list('abcedfghijklmnopqrstuvwxyz'))\n",
    "df = ser.to_frame()\n",
    "df.columns = [\"Lattin Letters\"]\n",
    "print(df)"
   ]
  },
  {
   "cell_type": "markdown",
   "metadata": {},
   "source": [
    "Упражнение 5"
   ]
  },
  {
   "cell_type": "code",
   "execution_count": 5,
   "metadata": {},
   "outputs": [
    {
     "name": "stdout",
     "output_type": "stream",
     "text": [
      "0    1\n",
      "1    2\n",
      "2    3\n",
      "dtype: int64\n"
     ]
    }
   ],
   "source": [
    "import pandas as pd\n",
    "\n",
    "ser1 = pd.Series([1, 2, 3, 4, 5])\n",
    "ser2 = pd.Series([4, 5, 6, 7, 8])\n",
    "\n",
    "ser1 = ser1.drop(ser1[ser1.isin(ser2)].index)\n",
    "print(ser1)"
   ]
  },
  {
   "cell_type": "markdown",
   "metadata": {},
   "source": [
    "Упражнение 6"
   ]
  },
  {
   "cell_type": "code",
   "execution_count": 49,
   "metadata": {},
   "outputs": [
    {
     "name": "stdout",
     "output_type": "stream",
     "text": [
      "[2, 3, 6, 7, 8]\n"
     ]
    }
   ],
   "source": [
    "import pandas as pd\n",
    "\n",
    "ser1 = pd.Series([1, 2, 3, 4, 5])\n",
    "ser2 = pd.Series([4, 5, 6, 7, 8, 1])\n",
    "print(list(pd.concat([ser1[~ser1.isin(ser2)], ser2[~ser2.isin(ser1)]])))"
   ]
  },
  {
   "cell_type": "markdown",
   "metadata": {},
   "source": [
    "Упражнение 7"
   ]
  },
  {
   "cell_type": "code",
   "execution_count": 56,
   "metadata": {},
   "outputs": [
    {
     "name": "stdout",
     "output_type": "stream",
     "text": [
      "0      9.457401\n",
      "1     10.151407\n",
      "2     16.638921\n",
      "3     15.314543\n",
      "4      5.644602\n",
      "5     13.792711\n",
      "6     12.849020\n",
      "7     11.411893\n",
      "8      4.270971\n",
      "9     16.475976\n",
      "10     0.309944\n",
      "11     7.997621\n",
      "12     9.799940\n",
      "13    12.694781\n",
      "14    16.671764\n",
      "15     8.989266\n",
      "16    15.325196\n",
      "17    17.300999\n",
      "18    16.110590\n",
      "19     5.007885\n",
      "20    -2.367261\n",
      "21     8.973902\n",
      "22    16.925918\n",
      "23     7.837266\n",
      "24    19.196042\n",
      "dtype: float64\n",
      "Minimum -2.367261404221539\n",
      "25th: 7.997621153706017\n",
      "Median: 11.411893135792718\n",
      "75th: 16.110589632398828\n",
      "Maximum: 19.196041556361365\n"
     ]
    }
   ],
   "source": [
    "import numpy as np\n",
    "import pandas as pd\n",
    "\n",
    "ser = pd.Series(np.random.normal(10, 5, 25))\n",
    "print(ser)\n",
    "print(\"Minimum\", ser.min())\n",
    "print(\"25th:\", ser.quantile(0.25))\n",
    "print(\"Median:\", ser.median())\n",
    "print(\"75th:\", ser.quantile(0.75))\n",
    "print(\"Maximum:\", ser.max())"
   ]
  },
  {
   "cell_type": "markdown",
   "metadata": {},
   "source": [
    "Упражнение 8"
   ]
  },
  {
   "cell_type": "code",
   "execution_count": 29,
   "metadata": {},
   "outputs": [
    {
     "name": "stdout",
     "output_type": "stream",
     "text": [
      "b    6\n",
      "a    6\n",
      "f    6\n",
      "d    4\n",
      "g    3\n",
      "c    2\n",
      "e    2\n",
      "h    1\n",
      "Name: count, dtype: int64\n"
     ]
    }
   ],
   "source": [
    "import numpy as np\n",
    "import pandas as pd\n",
    "\n",
    "ser = pd.Series(np.take(list('abcdefgh'), np.random.randint(8, size=30)))\n",
    "frequency = ser.value_counts()\n",
    "print(frequency)"
   ]
  },
  {
   "cell_type": "markdown",
   "metadata": {},
   "source": [
    "Упражнение 9"
   ]
  },
  {
   "cell_type": "code",
   "execution_count": 8,
   "metadata": {},
   "outputs": [
    {
     "name": "stdout",
     "output_type": "stream",
     "text": [
      "Оригинальная серия:\n",
      "0     1\n",
      "1     1\n",
      "2     1\n",
      "3     3\n",
      "4     3\n",
      "5     3\n",
      "6     3\n",
      "7     2\n",
      "8     4\n",
      "9     2\n",
      "10    2\n",
      "11    4\n",
      "dtype: int32\n",
      "\n",
      "Измененная серия:\n",
      "0          1\n",
      "1          1\n",
      "2          1\n",
      "3          3\n",
      "4          3\n",
      "5          3\n",
      "6          3\n",
      "7     Прочее\n",
      "8     Прочее\n",
      "9     Прочее\n",
      "10    Прочее\n",
      "11    Прочее\n",
      "dtype: object\n"
     ]
    }
   ],
   "source": [
    "import numpy as np\n",
    "import pandas as pd\n",
    "\n",
    "ser = pd.Series(np.random.randint(1, 5, [12]))\n",
    "\n",
    "frequency = ser.value_counts()\n",
    "\n",
    "mostCommon = frequency.nlargest(2).index\n",
    "\n",
    "serModified = ser.where(ser.isin(mostCommon), \"Прочее\")\n",
    "\n",
    "print(\"Оригинальная серия:\")\n",
    "print(ser)\n",
    "print(\"\\nИзмененная серия:\")\n",
    "print(serModified)"
   ]
  },
  {
   "cell_type": "markdown",
   "metadata": {},
   "source": [
    "Упражнение 10"
   ]
  },
  {
   "cell_type": "code",
   "execution_count": 9,
   "metadata": {},
   "outputs": [
    {
     "name": "stdout",
     "output_type": "stream",
     "text": [
      "Оригинальная серия:\n",
      "0     0.611033\n",
      "1     0.613980\n",
      "2     0.903351\n",
      "3     0.460241\n",
      "4     0.048363\n",
      "5     0.306242\n",
      "6     0.443332\n",
      "7     0.551461\n",
      "8     0.945308\n",
      "9     0.535115\n",
      "10    0.434800\n",
      "11    0.533352\n",
      "12    0.407153\n",
      "13    0.487092\n",
      "14    0.817114\n",
      "15    0.803421\n",
      "16    0.382593\n",
      "17    0.043324\n",
      "18    0.920963\n",
      "19    0.251992\n",
      "dtype: float64\n",
      "\n",
      "Серия с децилями:\n",
      "0      7th\n",
      "1      8th\n",
      "2      9th\n",
      "3      5th\n",
      "4      1th\n",
      "5      2th\n",
      "6      4th\n",
      "7      7th\n",
      "8     10th\n",
      "9      6th\n",
      "10     4th\n",
      "11     6th\n",
      "12     3th\n",
      "13     5th\n",
      "14     9th\n",
      "15     8th\n",
      "16     3th\n",
      "17     1th\n",
      "18    10th\n",
      "19     2th\n",
      "dtype: category\n",
      "Categories (10, object): ['1th' < '2th' < '3th' < '4th' ... '7th' < '8th' < '9th' < '10th']\n"
     ]
    }
   ],
   "source": [
    "import numpy as np\n",
    "import pandas as pd\n",
    "\n",
    "ser = pd.Series(np.random.random(20))\n",
    "\n",
    "deciles = pd.qcut(ser, 10, labels=[f'{i+1}th' for i in range(10)])\n",
    "\n",
    "print(\"Оригинальная серия:\")\n",
    "print(ser)\n",
    "print(\"\\nСерия с децилями:\")\n",
    "print(deciles)"
   ]
  },
  {
   "cell_type": "markdown",
   "metadata": {},
   "source": [
    "Упражнение 11"
   ]
  },
  {
   "cell_type": "code",
   "execution_count": 11,
   "metadata": {},
   "outputs": [
    {
     "name": "stdout",
     "output_type": "stream",
     "text": [
      "   0  1  2  3  4\n",
      "0  3  3  3  8  9\n",
      "1  9  7  4  8  3\n",
      "2  3  5  8  6  7\n",
      "3  9  7  7  2  1\n",
      "4  4  6  1  8  9\n",
      "5  5  7  5  5  8\n",
      "6  9  5  4  6  6\n"
     ]
    }
   ],
   "source": [
    "import pandas as pd\n",
    "import numpy as np\n",
    "\n",
    "ser = pd.Series(np.random.randint(1, 10, 35))\n",
    "\n",
    "df = pd.DataFrame(ser.values.reshape(7, 5))\n",
    "\n",
    "print(df)"
   ]
  },
  {
   "cell_type": "markdown",
   "metadata": {},
   "source": [
    "Упражнение 12"
   ]
  },
  {
   "cell_type": "code",
   "execution_count": 14,
   "metadata": {},
   "outputs": [
    {
     "name": "stdout",
     "output_type": "stream",
     "text": [
      "0    8\n",
      "1    4\n",
      "2    2\n",
      "3    6\n",
      "4    9\n",
      "5    8\n",
      "6    1\n",
      "dtype: int32\n",
      "[3, 4]\n"
     ]
    }
   ],
   "source": [
    "ser = pd.Series(np.random.randint(1, 10, 7))\n",
    "print(ser)\n",
    "\n",
    "print(list(ser[ser % 3 == 0].index))"
   ]
  },
  {
   "cell_type": "markdown",
   "metadata": {},
   "source": [
    "Упражнение 13"
   ]
  },
  {
   "cell_type": "code",
   "execution_count": 16,
   "metadata": {},
   "outputs": [
    {
     "name": "stdout",
     "output_type": "stream",
     "text": [
      "0     a\n",
      "4     e\n",
      "8     i\n",
      "14    o\n",
      "20    u\n",
      "dtype: object\n"
     ]
    }
   ],
   "source": [
    "import pandas as pd\n",
    "\n",
    "ser = pd.Series(list('abcdefghijklmnopqrstuvwxyz'))\n",
    "pos = [0, 4, 8, 14, 20]\n",
    "\n",
    "print(ser[pos])"
   ]
  },
  {
   "cell_type": "markdown",
   "metadata": {},
   "source": [
    "Упражнение 14"
   ]
  },
  {
   "cell_type": "code",
   "execution_count": 17,
   "metadata": {},
   "outputs": [
    {
     "name": "stdout",
     "output_type": "stream",
     "text": [
      "0    0\n",
      "1    1\n",
      "2    2\n",
      "3    3\n",
      "4    4\n",
      "dtype: int64 \n",
      "\n",
      "0    a\n",
      "1    b\n",
      "2    c\n",
      "3    d\n",
      "4    e\n",
      "dtype: object \n",
      "\n",
      "Вертикальное объединение:\n",
      "  Values\n",
      "0      0\n",
      "1      1\n",
      "2      2\n",
      "3      3\n",
      "4      4\n",
      "0      a\n",
      "1      b\n",
      "2      c\n",
      "3      d\n",
      "4      e\n",
      "\n",
      "Горизонтальное объединение:\n",
      "   0  1\n",
      "0  0  a\n",
      "1  1  b\n",
      "2  2  c\n",
      "3  3  d\n",
      "4  4  e\n"
     ]
    }
   ],
   "source": [
    "import pandas as pd\n",
    "import numpy as np\n",
    "\n",
    "ser1 = pd.Series(range(5))\n",
    "ser2 = pd.Series(list('abcde'))\n",
    "\n",
    "print(ser1, \"\\n\")\n",
    "print(ser2, \"\\n\")\n",
    "\n",
    "print(\"Вертикальное объединение:\")\n",
    "print(pd.DataFrame(pd.concat([ser1, ser2], axis=0), columns=['Values']))\n",
    "\n",
    "print(\"\\nГоризонтальное объединение:\")\n",
    "print(pd.DataFrame(pd.concat([ser1, ser2], axis=1)))"
   ]
  },
  {
   "cell_type": "markdown",
   "metadata": {},
   "source": [
    "Упражнение 15"
   ]
  },
  {
   "cell_type": "code",
   "execution_count": 18,
   "metadata": {},
   "outputs": [
    {
     "name": "stdout",
     "output_type": "stream",
     "text": [
      "[5, 4, 0, 8]\n"
     ]
    }
   ],
   "source": [
    "import pandas as pd\n",
    "import numpy as np\n",
    "\n",
    "ser1 = pd.Series([10, 9, 6, 5, 3, 1, 12, 8, 13])\n",
    "ser2 = pd.Series([1, 3, 10, 13])\n",
    "\n",
    "print([int(ser1[ser1 == value].index[0]) for value in ser2 if value in ser1.values])"
   ]
  },
  {
   "cell_type": "markdown",
   "metadata": {},
   "source": [
    "Упражнение 16"
   ]
  },
  {
   "cell_type": "code",
   "execution_count": 21,
   "metadata": {},
   "outputs": [
    {
     "name": "stdout",
     "output_type": "stream",
     "text": [
      "0.23673991878159978\n"
     ]
    }
   ],
   "source": [
    "import pandas as pd\n",
    "import numpy as np\n",
    "\n",
    "truth = pd.Series(range(10))\n",
    "pred = pd.Series(range(10)) + np.random.random(10)\n",
    "\n",
    "print(((truth - pred) ** 2).mean())"
   ]
  },
  {
   "cell_type": "markdown",
   "metadata": {},
   "source": [
    "Упражнение 17"
   ]
  },
  {
   "cell_type": "code",
   "execution_count": 23,
   "metadata": {},
   "outputs": [
    {
     "name": "stdout",
     "output_type": "stream",
     "text": [
      "Было:\n",
      " 0     how\n",
      "1      to\n",
      "2    kick\n",
      "3    ass?\n",
      "dtype: object\n",
      "\n",
      "Стало:\n",
      " 0     How\n",
      "1      To\n",
      "2    Kick\n",
      "3    Ass?\n",
      "dtype: object\n"
     ]
    }
   ],
   "source": [
    "import pandas as pd\n",
    "import numpy as np\n",
    "\n",
    "ser = pd.Series(['how', 'to', 'kick', 'ass?'])\n",
    "print(\"Было:\\n\", ser)\n",
    "\n",
    "print(\"\\nСтало:\\n\", ser.str.capitalize())"
   ]
  },
  {
   "cell_type": "markdown",
   "metadata": {},
   "source": [
    "Упражнение 18"
   ]
  },
  {
   "cell_type": "code",
   "execution_count": 30,
   "metadata": {},
   "outputs": [
    {
     "name": "stdout",
     "output_type": "stream",
     "text": [
      "3\n",
      "2\n",
      "4\n",
      "4\n",
      "\n"
     ]
    }
   ],
   "source": [
    "import pandas as pd\n",
    "\n",
    "def Count(line):\n",
    "    print(len(line))\n",
    "\n",
    "ser = pd.Series(['how', 'to', 'kick', 'ass?'])\n",
    "ser.apply(Count)\n",
    "print() #чтобы ноутбук не выводил пустую серию, которую вернет apply"
   ]
  },
  {
   "cell_type": "markdown",
   "metadata": {},
   "source": [
    "Упражнение 19"
   ]
  },
  {
   "cell_type": "code",
   "execution_count": 33,
   "metadata": {},
   "outputs": [
    {
     "name": "stdout",
     "output_type": "stream",
     "text": [
      "\n",
      " 0    NaN\n",
      "1    2.0\n",
      "2    3.0\n",
      "3    4.0\n",
      "4    5.0\n",
      "5    6.0\n",
      "6    6.0\n",
      "7    8.0\n",
      "dtype: float64\n",
      "\n",
      " 0     NaN\n",
      "1     NaN\n",
      "2     5.0\n",
      "3     7.0\n",
      "4     9.0\n",
      "5    11.0\n",
      "6    12.0\n",
      "7    14.0\n",
      "dtype: float64\n",
      "\n",
      " 0     NaN\n",
      "1     NaN\n",
      "2     NaN\n",
      "3     9.0\n",
      "4    12.0\n",
      "5    15.0\n",
      "6    17.0\n",
      "7    20.0\n",
      "dtype: float64\n",
      "\n",
      " 0     NaN\n",
      "1     NaN\n",
      "2     NaN\n",
      "3     NaN\n",
      "4    14.0\n",
      "5    18.0\n",
      "6    21.0\n",
      "7    25.0\n",
      "dtype: float64\n",
      "\n",
      " 0     NaN\n",
      "1     NaN\n",
      "2     NaN\n",
      "3     NaN\n",
      "4     NaN\n",
      "5    20.0\n",
      "6    24.0\n",
      "7    29.0\n",
      "dtype: float64\n",
      "\n",
      " 0     NaN\n",
      "1     NaN\n",
      "2     NaN\n",
      "3     NaN\n",
      "4     NaN\n",
      "5     NaN\n",
      "6    26.0\n",
      "7    32.0\n",
      "dtype: float64\n",
      "\n",
      " 0     NaN\n",
      "1     NaN\n",
      "2     NaN\n",
      "3     NaN\n",
      "4     NaN\n",
      "5     NaN\n",
      "6     NaN\n",
      "7    34.0\n",
      "dtype: float64\n"
     ]
    }
   ],
   "source": [
    "import pandas as pd\n",
    "\n",
    "ser = pd.Series([1, 3, 6, 10, 15, 21, 27, 35])\n",
    "\n",
    "for i in range(len(ser)):\n",
    "\n",
    "    if i == 0:\n",
    "        continue\n",
    "    \n",
    "    print(\"\\n\", ser.diff(periods= i))"
   ]
  },
  {
   "cell_type": "markdown",
   "metadata": {},
   "source": [
    "Упражнение 20"
   ]
  },
  {
   "cell_type": "code",
   "execution_count": 35,
   "metadata": {},
   "outputs": [
    {
     "name": "stdout",
     "output_type": "stream",
     "text": [
      "0   2010-01-01 00:00:00\n",
      "1   2011-02-02 00:00:00\n",
      "2   2012-03-03 00:00:00\n",
      "3   2013-04-04 00:00:00\n",
      "4   2014-05-05 00:00:00\n",
      "5   2015-06-06 12:20:00\n",
      "dtype: datetime64[s]\n"
     ]
    }
   ],
   "source": [
    "\n",
    "import pandas as pd\n",
    "\n",
    "ser = pd.Series(['01 Jan 2010', '02-02-2011', '20120303', '2013/04/04', '2014-05-05', '2015-06-06T12:20'])\n",
    "print(ser.astype('datetime64[s]'))"
   ]
  },
  {
   "cell_type": "markdown",
   "metadata": {},
   "source": [
    "Упражнение 21"
   ]
  },
  {
   "cell_type": "code",
   "execution_count": 36,
   "metadata": {},
   "outputs": [
    {
     "name": "stdout",
     "output_type": "stream",
     "text": [
      "Day Month: [1, 2, 3, 4, 5, 6]\n",
      "Week number: [53, 5, 9, 14, 19, 23]\n",
      "Day num of year: [1, 33, 63, 94, 125, 157]\n",
      "Day of week: ['Friday', 'Wednesday', 'Saturday', 'Thursday', 'Monday', 'Saturday']\n"
     ]
    }
   ],
   "source": [
    "import pandas as pd\n",
    "from numpy import datetime64\n",
    "\n",
    "DayMontNums = []\n",
    "Weeks = []\n",
    "DayYearNums = []\n",
    "DayWeeks = []\n",
    "\n",
    "day_names = ['Monday', 'Tuesday', 'Wednesday', 'Thursday', 'Friday', 'Saturday', 'Sunday']\n",
    "\n",
    "def GetData(dt: datetime64): \n",
    "    DayMontNums.append(dt.timetuple().tm_mday)\n",
    "    Weeks.append(dt.isocalendar()[1])\n",
    "    DayYearNums.append(dt.timetuple().tm_yday)\n",
    "    DayWeeks.append(day_names[dt.weekday()])\n",
    "\n",
    "ser = pd.Series(['01 Jan 2010', '02-02-2011', '20120303', '2013/04/04', '2014-05-05', '2015-06-06T12:20'])\n",
    "ser.astype('datetime64[s]').apply(GetData)\n",
    "\n",
    "print(\"Day Month:\", DayMontNums)\n",
    "print(\"Week number:\", Weeks)\n",
    "print(\"Day num of year:\", DayYearNums)\n",
    "print(\"Day of week:\", DayWeeks)\n",
    "\n"
   ]
  },
  {
   "cell_type": "markdown",
   "metadata": {},
   "source": [
    "Упражнение 22"
   ]
  },
  {
   "cell_type": "code",
   "execution_count": 38,
   "metadata": {},
   "outputs": [
    {
     "name": "stdout",
     "output_type": "stream",
     "text": [
      "0   2010-01-04\n",
      "1   2011-02-04\n",
      "2   2012-03-04\n",
      "dtype: datetime64[ns]\n"
     ]
    }
   ],
   "source": [
    "import pandas as pd\n",
    "\n",
    "def Convert(dt):\n",
    "    return dt.replace(day = 4)\n",
    "\n",
    "ser = pd.Series(['Jan 2010', 'Feb 2011', 'Mar 2012'])\n",
    "\n",
    "print(ser.astype('datetime64[ns]').apply(Convert))"
   ]
  },
  {
   "cell_type": "markdown",
   "metadata": {},
   "source": [
    "Упражнение 23"
   ]
  },
  {
   "cell_type": "code",
   "execution_count": 41,
   "metadata": {},
   "outputs": [
    {
     "name": "stdout",
     "output_type": "stream",
     "text": [
      "0     Apple\n",
      "1    Orange\n",
      "4     Money\n",
      "dtype: object\n"
     ]
    }
   ],
   "source": [
    "import pandas as pd\n",
    "\n",
    "vowels = 'aeiouAEIOU'\n",
    "\n",
    "def Check(word):\n",
    "    count = sum(1 for char in word if char in vowels)\n",
    "    return count >= 2\n",
    "\n",
    "ser = pd.Series(['Apple', 'Orange', 'Plan', 'Python', 'Money'])\n",
    "print(ser[ser.apply(Check)])"
   ]
  },
  {
   "cell_type": "markdown",
   "metadata": {},
   "source": [
    "Упражнение 24"
   ]
  },
  {
   "cell_type": "code",
   "execution_count": 43,
   "metadata": {},
   "outputs": [
    {
     "name": "stdout",
     "output_type": "stream",
     "text": [
      "1    rameses@egypt.com\n",
      "2            matt@t.co\n",
      "3    narendra@modi.com\n",
      "dtype: object\n"
     ]
    }
   ],
   "source": [
    "import re\n",
    "import pandas as pd\n",
    "\n",
    "pattern = \"[A-Za-z0-9._%+-]+@[A-Za-z0-9.-]+\\\\.[A-Za-z]{2,4}\"\n",
    "\n",
    "def Check(potentialAddress):\n",
    "    return bool(re.fullmatch(pattern, potentialAddress))\n",
    "\n",
    "emails = pd.Series(['buying books at amazom.com', 'rameses@egypt.com',\n",
    "'matt@t.co', 'narendra@modi.com'])\n",
    "\n",
    "print(emails[emails.apply(Check)])"
   ]
  },
  {
   "cell_type": "markdown",
   "metadata": {},
   "source": [
    "Упражнение 25"
   ]
  },
  {
   "cell_type": "code",
   "execution_count": 52,
   "metadata": {},
   "outputs": [
    {
     "name": "stdout",
     "output_type": "stream",
     "text": [
      "[1.0, 2.0, 3.0, 4.0, 5.0, 6.0, 7.0, 8.0, 9.0, 10.0]\n",
      "['carrot', 'banana', 'apple', 'banana', 'banana', 'banana', 'apple', 'banana', 'banana', 'carrot']\n",
      "\n",
      " fruit\n",
      "apple     5.000000\n",
      "banana    5.666667\n",
      "carrot    5.500000\n",
      "Name: weight, dtype: float64\n"
     ]
    }
   ],
   "source": [
    "import numpy as np\n",
    "import pandas as pd\n",
    "\n",
    "fruit = pd.Series(np.random.choice(['apple', 'banana', 'carrot'], 10))\n",
    "weights = pd.Series(np.linspace(1, 10, 10))\n",
    "\n",
    "print(weights.tolist())\n",
    "print(fruit.tolist())\n",
    "print(\"\\n\", pd.DataFrame({'fruit': fruit, 'weight': weights}).groupby('fruit')['weight'].mean())"
   ]
  },
  {
   "cell_type": "markdown",
   "metadata": {},
   "source": [
    "Упражнение 26"
   ]
  },
  {
   "cell_type": "code",
   "execution_count": 55,
   "metadata": {},
   "outputs": [
    {
     "name": "stdout",
     "output_type": "stream",
     "text": [
      "18.16590212458495\n"
     ]
    }
   ],
   "source": [
    "import numpy as np\n",
    "import pandas as pd\n",
    "\n",
    "def EuclidDistance(p, q):\n",
    "    return np.sqrt(((p - q) ** 2).sum())\n",
    "\n",
    "p = pd.Series([1, 2, 3, 4, 5, 6, 7, 8, 9, 10])\n",
    "q = pd.Series([10, 9, 8, 7, 6, 5, 4, 3, 2, 1])\n",
    "\n",
    "print(EuclidDistance(p, q))\n",
    "\n"
   ]
  },
  {
   "cell_type": "markdown",
   "metadata": {},
   "source": [
    "Упражнение 27"
   ]
  },
  {
   "cell_type": "code",
   "execution_count": 58,
   "metadata": {},
   "outputs": [
    {
     "name": "stdout",
     "output_type": "stream",
     "text": [
      "[1, 5, 7]\n"
     ]
    }
   ],
   "source": [
    "import pandas as pd\n",
    "\n",
    "ser = pd.Series([2, 10, 3, 4, 9, 10, 2, 7, 3])\n",
    "\n",
    "print(ser[(ser.shift(1) < ser) & (ser.shift(-1) < ser)].index.tolist())"
   ]
  },
  {
   "cell_type": "markdown",
   "metadata": {},
   "source": [
    "Упражнение 28"
   ]
  },
  {
   "cell_type": "code",
   "execution_count": 60,
   "metadata": {},
   "outputs": [
    {
     "name": "stdout",
     "output_type": "stream",
     "text": [
      "dbccdebcabedcgade\n"
     ]
    }
   ],
   "source": [
    "import pandas as pd\n",
    "\n",
    "my_str = 'dbc deb abed gade'\n",
    "\n",
    "s = pd.Series(list(my_str))\n",
    "count = s.value_counts()\n",
    "print(my_str.replace(\" \", count[count.index != \" \"].idxmin()))"
   ]
  },
  {
   "cell_type": "markdown",
   "metadata": {},
   "source": [
    "Упражнение 29"
   ]
  },
  {
   "cell_type": "code",
   "execution_count": 70,
   "metadata": {},
   "outputs": [
    {
     "name": "stdout",
     "output_type": "stream",
     "text": [
      "2000-01-01    0.563583\n",
      "2000-01-08    0.318579\n",
      "2000-01-15    0.865375\n",
      "2000-01-22    0.495887\n",
      "2000-01-29    0.733748\n",
      "2000-02-05    0.303693\n",
      "2000-02-12    0.433603\n",
      "2000-02-19    0.009790\n",
      "2000-02-26    0.644576\n",
      "2000-03-04    0.937203\n",
      "Freq: W-SAT, dtype: float64\n"
     ]
    }
   ],
   "source": [
    "import numpy as np\n",
    "import pandas as pd\n",
    "\n",
    "print(pd.Series(np.random.rand(10), index= pd.date_range(start='2000-01-01', periods=10, freq='W-SAT')))"
   ]
  },
  {
   "cell_type": "markdown",
   "metadata": {},
   "source": [
    "Упражнение 30"
   ]
  },
  {
   "cell_type": "code",
   "execution_count": 71,
   "metadata": {},
   "outputs": [
    {
     "name": "stdout",
     "output_type": "stream",
     "text": [
      "2000-01-01     1.0\n",
      "2000-01-02     1.0\n",
      "2000-01-03    10.0\n",
      "2000-01-04    10.0\n",
      "2000-01-05    10.0\n",
      "2000-01-06     3.0\n",
      "2000-01-07     3.0\n",
      "2000-01-08     3.0\n",
      "Freq: D, dtype: float64\n"
     ]
    }
   ],
   "source": [
    "ser = pd.Series([1,10,3,np.nan], index=pd.to_datetime(['2000-01-01', '2000-01-03',\n",
    "'2000-01-06', '2000-01-08']))\n",
    "\n",
    "print(ser.reindex(pd.date_range(start=ser.index.min(), end=ser.index.max())).ffill())"
   ]
  },
  {
   "cell_type": "markdown",
   "metadata": {},
   "source": [
    "Упражнение 31"
   ]
  },
  {
   "cell_type": "code",
   "execution_count": 78,
   "metadata": {},
   "outputs": [
    {
     "name": "stdout",
     "output_type": "stream",
     "text": [
      "0     -9.216194\n",
      "1      5.034708\n",
      "2    -16.065535\n",
      "3     -1.378245\n",
      "4      5.153694\n",
      "5      7.037098\n",
      "6     23.571962\n",
      "7      2.212210\n",
      "8     -1.675898\n",
      "9     -7.157876\n",
      "10    25.123412\n",
      "11    18.266516\n",
      "12    25.517568\n",
      "13     7.836612\n",
      "14    13.464828\n",
      "15    17.504364\n",
      "16    20.179814\n",
      "17    30.123232\n",
      "18    22.483899\n",
      "19    38.009967\n",
      "dtype: float64 \n",
      "\n",
      "[0.4801744584779526, 0.46671910297538216, 0.08553711401277608, 0.2881022463651249, 0.5490806944587682, 0.49678900098886836, 0.590683473851378, 0.11770506481499472, 0.38040103004883064, -0.3600442912084241]\n",
      "\n",
      "Лаг с большей корреляцией (позиция): 7\n"
     ]
    }
   ],
   "source": [
    "import numpy as np\n",
    "import pandas as pd\n",
    "\n",
    "ser = pd.Series(np.arange(20) + np.random.normal(1, 10, 20))\n",
    "\n",
    "print(ser, \"\\n\")\n",
    "\n",
    "autoСorrelations = [ser.autocorr(lag) for lag in range(1, 11)]\n",
    "\n",
    "print([float(s) for s in autoСorrelations])\n",
    "print(f\"\\nЛаг с большей корреляцией (позиция): {np.argmax(autoСorrelations) + 1}\")"
   ]
  },
  {
   "cell_type": "markdown",
   "metadata": {},
   "source": [
    "Упражнение 32"
   ]
  },
  {
   "cell_type": "code",
   "execution_count": 62,
   "metadata": {},
   "outputs": [
    {
     "name": "stdout",
     "output_type": "stream",
     "text": [
      "         CRIM    ZN  INDUS  CHAS    NOX     RM    AGE     DIS  RAD    TAX  \\\n",
      "0     0.00632  18.0   2.31     0  0.538  6.575   65.2  4.0900    1  296.0   \n",
      "50    0.08873  21.0   5.64     0  0.439  5.963   45.7  6.8147    4  243.0   \n",
      "100   0.14866   0.0   8.56     0  0.520  6.727   79.9  2.7778    5  384.0   \n",
      "150   1.65660   0.0  19.58     0  0.871  6.122   97.3  1.6180    5  403.0   \n",
      "200   0.01778  95.0   1.47     0  0.403  7.135   13.9  7.6534    3  402.0   \n",
      "250   0.14030  22.0   5.86     0  0.431  6.487   13.0  7.3967    7  330.0   \n",
      "300   0.04417  70.0   2.24     0  0.400  6.871   47.4  7.8278    5  358.0   \n",
      "350   0.06211  40.0   1.25     0  0.429  6.490   44.4  8.7921    1  335.0   \n",
      "400  25.04610   0.0  18.10     0  0.693  5.987  100.0  1.5888   24  666.0   \n",
      "450   6.71772   0.0  18.10     0  0.713  6.749   92.6  2.3236   24  666.0   \n",
      "500   0.22438   0.0   9.69     0  0.585  6.027   79.7  2.4982    6  391.0   \n",
      "\n",
      "     PTRATIO       B  LSTAT  MEDV  \n",
      "0       15.3  396.90   4.98  24.0  \n",
      "50      16.8  395.56  13.45  19.7  \n",
      "100     20.9  394.76   9.42  27.5  \n",
      "150     14.7  372.80  14.10  21.5  \n",
      "200     17.0  384.30   4.45  32.9  \n",
      "250     19.1  396.28   5.90  24.4  \n",
      "300     14.8  390.86   6.07  24.8  \n",
      "350     19.7  396.90   5.98  22.9  \n",
      "400     20.2  396.90  26.77   5.6  \n",
      "450     20.2    0.32  17.44  13.4  \n",
      "500     19.2  396.90  14.33  16.8  \n"
     ]
    }
   ],
   "source": [
    "\n",
    "import pandas as pd\n",
    "\n",
    "url = 'https://raw.githubusercontent.com/jbrownlee/Datasets/master/housing.csv'\n",
    "column_names = ['CRIM', 'ZN', 'INDUS', 'CHAS', 'NOX', 'RM', 'AGE', 'DIS', 'RAD', 'TAX', 'PTRATIO', 'B', 'LSTAT', 'MEDV']\n",
    "\n",
    "print(pd.read_csv(url, header=None, names=column_names).iloc[::50])"
   ]
  },
  {
   "cell_type": "markdown",
   "metadata": {},
   "source": [
    "Упражнение 33"
   ]
  },
  {
   "cell_type": "code",
   "execution_count": 83,
   "metadata": {},
   "outputs": [
    {
     "name": "stdout",
     "output_type": "stream",
     "text": [
      "        CRIM    ZN  INDUS  CHAS    NOX     RM   AGE     DIS  RAD    TAX  \\\n",
      "0    0.00632  18.0   2.31     0  0.538  6.575  65.2  4.0900    1  296.0   \n",
      "1    0.02731   0.0   7.07     0  0.469  6.421  78.9  4.9671    2  242.0   \n",
      "2    0.02729   0.0   7.07     0  0.469  7.185  61.1  4.9671    2  242.0   \n",
      "3    0.03237   0.0   2.18     0  0.458  6.998  45.8  6.0622    3  222.0   \n",
      "4    0.06905   0.0   2.18     0  0.458  7.147  54.2  6.0622    3  222.0   \n",
      "..       ...   ...    ...   ...    ...    ...   ...     ...  ...    ...   \n",
      "501  0.06263   0.0  11.93     0  0.573  6.593  69.1  2.4786    1  273.0   \n",
      "502  0.04527   0.0  11.93     0  0.573  6.120  76.7  2.2875    1  273.0   \n",
      "503  0.06076   0.0  11.93     0  0.573  6.976  91.0  2.1675    1  273.0   \n",
      "504  0.10959   0.0  11.93     0  0.573  6.794  89.3  2.3889    1  273.0   \n",
      "505  0.04741   0.0  11.93     0  0.573  6.030  80.8  2.5050    1  273.0   \n",
      "\n",
      "     PTRATIO       B  LSTAT  MEDV  \n",
      "0       15.3  396.90   4.98   Low  \n",
      "1       17.8  396.90   9.14   Low  \n",
      "2       17.8  392.83   4.03  High  \n",
      "3       18.7  394.63   2.94  High  \n",
      "4       18.7  396.90   5.33  High  \n",
      "..       ...     ...    ...   ...  \n",
      "501     21.0  391.99   9.67   Low  \n",
      "502     21.0  396.90   9.08   Low  \n",
      "503     21.0  396.90   5.64   Low  \n",
      "504     21.0  393.45   6.48   Low  \n",
      "505     21.0  396.90   7.88   Low  \n",
      "\n",
      "[506 rows x 14 columns]\n"
     ]
    }
   ],
   "source": [
    "import pandas as pd\n",
    "\n",
    "url = 'https://raw.githubusercontent.com/jbrownlee/Datasets/master/housing.csv'\n",
    "column_names = ['CRIM', 'ZN', 'INDUS', 'CHAS', 'NOX', 'RM', 'AGE', 'DIS', 'RAD', 'TAX', 'PTRATIO', 'B', 'LSTAT', 'MEDV']\n",
    "\n",
    "housing = pd.read_csv(url, header=None, names=column_names)\n",
    "housing['MEDV'] = housing['MEDV'].apply(lambda x: 'Low' if x < 25 else 'High')\n",
    "print(housing)"
   ]
  },
  {
   "cell_type": "markdown",
   "metadata": {},
   "source": [
    "Упражнение 34"
   ]
  },
  {
   "cell_type": "code",
   "execution_count": 84,
   "metadata": {},
   "outputs": [
    {
     "name": "stdout",
     "output_type": "stream",
     "text": [
      "[[ 0  1  2  3]\n",
      " [ 2  3  4  5]\n",
      " [ 4  5  6  7]\n",
      " [ 6  7  8  9]\n",
      " [ 8  9 10 11]\n",
      " [10 11 12 13]]\n"
     ]
    }
   ],
   "source": [
    "import numpy as np\n",
    "import pandas as pd\n",
    "\n",
    "L = pd.Series(range(15))\n",
    "\n",
    "print(pd.DataFrame(np.array([L[i:i + 4] for i in range(0, (len(L) // 2 - 1) * 2, 2)])).__array__())"
   ]
  },
  {
   "cell_type": "markdown",
   "metadata": {},
   "source": [
    "Упражнение 35"
   ]
  },
  {
   "cell_type": "code",
   "execution_count": 87,
   "metadata": {},
   "outputs": [
    {
     "name": "stdout",
     "output_type": "stream",
     "text": [
      "        CRIM  MEDV\n",
      "0    0.00632  24.0\n",
      "1    0.02731  21.6\n",
      "2    0.02729  34.7\n",
      "3    0.03237  33.4\n",
      "4    0.06905  36.2\n",
      "..       ...   ...\n",
      "501  0.06263  22.4\n",
      "502  0.04527  20.6\n",
      "503  0.06076  23.9\n",
      "504  0.10959  22.0\n",
      "505  0.04741  11.9\n",
      "\n",
      "[506 rows x 2 columns]\n"
     ]
    }
   ],
   "source": [
    "import pandas as pd\n",
    "\n",
    "url = 'https://raw.githubusercontent.com/jbrownlee/Datasets/master/housing.csv'\n",
    "column_names = ['CRIM', 'ZN', 'INDUS', 'CHAS', 'NOX', 'RM', 'AGE', 'DIS', 'RAD', 'TAX', 'PTRATIO', 'B', 'LSTAT', 'MEDV']\n",
    "\n",
    "housing = pd.read_csv(url, header=None, names=column_names)\n",
    "\n",
    "print(housing[['CRIM', 'MEDV']])"
   ]
  },
  {
   "cell_type": "markdown",
   "metadata": {},
   "source": [
    "Упражнение 36"
   ]
  },
  {
   "cell_type": "code",
   "execution_count": 88,
   "metadata": {},
   "outputs": [
    {
     "name": "stdout",
     "output_type": "stream",
     "text": [
      "Количество строк: 93\n",
      "Количество столбцов: 27\n",
      "\n",
      "Типы данных каждого столбца:\n",
      "Manufacturer           object\n",
      "Model                  object\n",
      "Type                   object\n",
      "Min.Price             float64\n",
      "Price                 float64\n",
      "Max.Price             float64\n",
      "MPG.city              float64\n",
      "MPG.highway           float64\n",
      "AirBags                object\n",
      "DriveTrain             object\n",
      "Cylinders              object\n",
      "EngineSize            float64\n",
      "Horsepower            float64\n",
      "RPM                   float64\n",
      "Rev.per.mile          float64\n",
      "Man.trans.avail        object\n",
      "Fuel.tank.capacity    float64\n",
      "Passengers            float64\n",
      "Length                float64\n",
      "Wheelbase             float64\n",
      "Width                 float64\n",
      "Turn.circle           float64\n",
      "Rear.seat.room        float64\n",
      "Luggage.room          float64\n",
      "Weight                float64\n",
      "Origin                 object\n",
      "Make                   object\n",
      "dtype: object\n",
      "\n",
      "Суммарная статистика каждого столбца:\n",
      "       Manufacturer    Model     Type  Min.Price      Price  Max.Price  \\\n",
      "count            89       92       90  86.000000  91.000000  88.000000   \n",
      "unique           31       92        6        NaN        NaN        NaN   \n",
      "top       Chevrolet  Integra  Midsize        NaN        NaN        NaN   \n",
      "freq              8        1       22        NaN        NaN        NaN   \n",
      "mean            NaN      NaN      NaN  17.118605  19.616484  21.459091   \n",
      "std             NaN      NaN      NaN   8.828290   9.724280  10.696563   \n",
      "min             NaN      NaN      NaN   6.700000   7.400000   7.900000   \n",
      "25%             NaN      NaN      NaN  10.825000  12.350000  14.575000   \n",
      "50%             NaN      NaN      NaN  14.600000  17.700000  19.150000   \n",
      "75%             NaN      NaN      NaN  20.250000  23.500000  24.825000   \n",
      "max             NaN      NaN      NaN  45.400000  61.900000  80.000000   \n",
      "\n",
      "         MPG.city  MPG.highway      AirBags DriveTrain  ... Passengers  \\\n",
      "count   84.000000    91.000000           55         86  ...  91.000000   \n",
      "unique        NaN          NaN            2          3  ...        NaN   \n",
      "top           NaN          NaN  Driver only      Front  ...        NaN   \n",
      "freq          NaN          NaN           39         61  ...        NaN   \n",
      "mean    22.404762    29.065934          NaN        NaN  ...   5.076923   \n",
      "std      5.841520     5.370293          NaN        NaN  ...   1.045953   \n",
      "min     15.000000    20.000000          NaN        NaN  ...   2.000000   \n",
      "25%     18.000000    26.000000          NaN        NaN  ...   4.000000   \n",
      "50%     21.000000    28.000000          NaN        NaN  ...   5.000000   \n",
      "75%     25.000000    31.000000          NaN        NaN  ...   6.000000   \n",
      "max     46.000000    50.000000          NaN        NaN  ...   8.000000   \n",
      "\n",
      "            Length   Wheelbase      Width  Turn.circle Rear.seat.room  \\\n",
      "count    89.000000   92.000000  87.000000    88.000000      89.000000   \n",
      "unique         NaN         NaN        NaN          NaN            NaN   \n",
      "top            NaN         NaN        NaN          NaN            NaN   \n",
      "freq           NaN         NaN        NaN          NaN            NaN   \n",
      "mean    182.865169  103.956522  69.448276    38.954545      27.853933   \n",
      "std      14.792651    6.856317   3.778023     3.304157       3.018129   \n",
      "min     141.000000   90.000000  60.000000    32.000000      19.000000   \n",
      "25%     174.000000   98.000000  67.000000    36.000000      26.000000   \n",
      "50%     181.000000  103.000000  69.000000    39.000000      27.500000   \n",
      "75%     192.000000  110.000000  72.000000    42.000000      30.000000   \n",
      "max     219.000000  119.000000  78.000000    45.000000      36.000000   \n",
      "\n",
      "        Luggage.room       Weight  Origin           Make  \n",
      "count      74.000000    86.000000      88             90  \n",
      "unique           NaN          NaN       2             90  \n",
      "top              NaN          NaN     USA  Acura Integra  \n",
      "freq             NaN          NaN      46              1  \n",
      "mean       13.986486  3104.593023     NaN            NaN  \n",
      "std         3.120824   600.129993     NaN            NaN  \n",
      "min         6.000000  1695.000000     NaN            NaN  \n",
      "25%        12.000000  2647.500000     NaN            NaN  \n",
      "50%        14.000000  3085.000000     NaN            NaN  \n",
      "75%        16.000000  3567.500000     NaN            NaN  \n",
      "max        22.000000  4105.000000     NaN            NaN  \n",
      "\n",
      "[11 rows x 27 columns]\n",
      "\n",
      "Эквивалент датафрейма в виде numpy-массива:\n",
      "[['Acura' 'Integra' 'Small' ... 2705.0 'non-USA' 'Acura Integra']\n",
      " [nan 'Legend' 'Midsize' ... 3560.0 'non-USA' 'Acura Legend']\n",
      " ['Audi' '90' 'Compact' ... 3375.0 'non-USA' 'Audi 90']\n",
      " ...\n",
      " ['Volkswagen' 'Corrado' 'Sporty' ... 2810.0 'non-USA'\n",
      "  'Volkswagen Corrado']\n",
      " ['Volvo' '240' 'Compact' ... 2985.0 'non-USA' 'Volvo 240']\n",
      " [nan '850' 'Midsize' ... 3245.0 'non-USA' 'Volvo 850']]\n",
      "\n",
      "Эквивалент датафрейма в виде списка:\n",
      "[['Acura', 'Integra', 'Small', 12.9, 15.9, 18.8, 25.0, 31.0, nan, 'Front', '4', 1.8, 140.0, 6300.0, 2890.0, 'Yes', 13.2, 5.0, 177.0, 102.0, 68.0, 37.0, 26.5, nan, 2705.0, 'non-USA', 'Acura Integra'], [nan, 'Legend', 'Midsize', 29.2, 33.9, 38.7, 18.0, 25.0, 'Driver & Passenger', 'Front', '6', 3.2, 200.0, 5500.0, 2335.0, 'Yes', 18.0, 5.0, 195.0, 115.0, 71.0, 38.0, 30.0, 15.0, 3560.0, 'non-USA', 'Acura Legend'], ['Audi', '90', 'Compact', 25.9, 29.1, 32.3, 20.0, 26.0, 'Driver only', 'Front', '6', 2.8, 172.0, 5500.0, 2280.0, 'Yes', 16.9, 5.0, 180.0, 102.0, 67.0, 37.0, 28.0, 14.0, 3375.0, 'non-USA', 'Audi 90'], ['Audi', '100', 'Midsize', nan, 37.7, 44.6, 19.0, 26.0, 'Driver & Passenger', nan, '6', nan, 172.0, 5500.0, 2535.0, nan, 21.1, 6.0, 193.0, 106.0, nan, 37.0, 31.0, 17.0, 3405.0, 'non-USA', 'Audi 100'], ['BMW', '535i', 'Midsize', nan, 30.0, nan, 22.0, 30.0, nan, 'Rear', '4', 3.5, 208.0, 5700.0, 2545.0, 'Yes', 21.1, 4.0, 186.0, 109.0, 69.0, 39.0, 27.0, 13.0, 3640.0, 'non-USA', 'BMW 535i'], ['Buick', 'Century', 'Midsize', 14.2, 15.7, 17.3, 22.0, 31.0, 'Driver only', nan, '4', 2.2, 110.0, 5200.0, 2565.0, 'No', 16.4, 6.0, 189.0, 105.0, 69.0, 41.0, 28.0, 16.0, nan, 'USA', 'Buick Century'], ['Buick', 'LeSabre', 'Large', 19.9, 20.8, nan, 19.0, 28.0, 'Driver only', 'Front', '6', 3.8, 170.0, 4800.0, nan, 'No', nan, 6.0, 200.0, 111.0, 74.0, 42.0, 30.5, 17.0, 3470.0, 'USA', 'Buick LeSabre'], ['Buick', 'Roadmaster', 'Large', 22.6, 23.7, 24.9, 16.0, 25.0, 'Driver only', 'Rear', '6', 5.7, 180.0, 4000.0, 1320.0, 'No', 23.0, 6.0, 216.0, 116.0, 78.0, 45.0, 30.5, 21.0, 4105.0, 'USA', 'Buick Roadmaster'], ['Buick', 'Riviera', 'Midsize', 26.3, 26.3, 26.3, 19.0, 27.0, 'Driver only', 'Front', '6', 3.8, 170.0, 4800.0, 1690.0, 'No', 18.8, 5.0, 198.0, 108.0, nan, 41.0, 26.5, 14.0, 3495.0, 'USA', 'Buick Riviera'], ['Cadillac', 'DeVille', 'Large', 33.0, 34.7, 36.3, 16.0, 25.0, 'Driver only', 'Front', '8', 4.9, 200.0, 4100.0, nan, 'No', 18.0, 6.0, 206.0, 114.0, 73.0, 43.0, 35.0, 18.0, 3620.0, 'USA', 'Cadillac DeVille'], ['Cadillac', 'Seville', 'Midsize', 37.5, 40.1, 42.7, 16.0, 25.0, 'Driver & Passenger', 'Front', '8', 4.6, 295.0, 6000.0, 1985.0, 'No', 20.0, 5.0, 204.0, 111.0, 74.0, 44.0, 31.0, nan, 3935.0, 'USA', 'Cadillac Seville'], ['Chevrolet', 'Cavalier', 'Compact', 8.5, 13.4, 18.3, 25.0, 36.0, nan, nan, '4', 2.2, nan, 5200.0, 2380.0, 'Yes', 15.2, 5.0, 182.0, 101.0, 66.0, 38.0, 25.0, 13.0, 2490.0, 'USA', 'Chevrolet Cavalier'], ['Chevrolet', 'Corsica', 'Compact', 11.4, 11.4, 11.4, 25.0, 34.0, 'Driver only', 'Front', nan, 2.2, 110.0, 5200.0, 2665.0, 'Yes', 15.6, 5.0, 184.0, 103.0, 68.0, 39.0, 26.0, nan, 2785.0, 'USA', 'Chevrolet Corsica'], ['Chevrolet', 'Camaro', 'Sporty', 13.4, 15.1, 16.8, 19.0, 28.0, 'Driver & Passenger', 'Rear', nan, 3.4, 160.0, 4600.0, 1805.0, 'Yes', nan, 4.0, 193.0, 101.0, 74.0, 43.0, 25.0, 13.0, 3240.0, 'USA', 'Chevrolet Camaro'], ['Chevrolet', 'Lumina', 'Midsize', 13.4, 15.9, 18.4, nan, 29.0, nan, 'Front', '4', 2.2, nan, 5200.0, 2595.0, 'No', 16.5, 6.0, nan, 108.0, 71.0, nan, 28.5, 16.0, 3195.0, 'USA', 'Chevrolet Lumina'], ['Chevrolet', 'Lumina_APV', 'Van', 14.7, 16.3, 18.0, 18.0, 23.0, nan, 'Front', '6', 3.8, 170.0, 4800.0, 1690.0, 'No', 20.0, 7.0, 178.0, 110.0, 74.0, 44.0, 30.5, nan, 3715.0, 'USA', 'Chevrolet Lumina_APV'], ['Chevrolet', 'Astro', 'Van', 14.7, 16.6, 18.6, 15.0, 20.0, nan, '4WD', '6', 4.3, nan, 4000.0, 1790.0, 'No', 27.0, 8.0, 194.0, 111.0, 78.0, 42.0, 33.5, nan, 4025.0, 'USA', 'Chevrolet Astro'], ['Chevrolet', 'Caprice', 'Large', 18.0, 18.8, 19.6, 17.0, 26.0, 'Driver only', 'Rear', '8', 5.0, 170.0, 4200.0, 1350.0, 'No', 23.0, 6.0, 214.0, 116.0, 77.0, 42.0, 29.5, 20.0, 3910.0, 'USA', 'Chevrolet Caprice'], ['Chevrolet', 'Corvette', 'Sporty', 34.6, 38.0, 41.5, 17.0, 25.0, 'Driver only', 'Rear', '8', 5.7, 300.0, 5000.0, 1450.0, 'Yes', 20.0, 2.0, 179.0, 96.0, 74.0, 43.0, nan, nan, 3380.0, nan, 'Chevrolet Corvette'], [nan, 'Concorde', 'Large', 18.4, 18.4, 18.4, 20.0, 28.0, 'Driver & Passenger', 'Front', '6', 3.3, 153.0, 5300.0, 1990.0, 'No', 18.0, 6.0, 203.0, 113.0, 74.0, nan, 31.0, 15.0, 3515.0, 'USA', 'Chrylser Concorde'], ['Chrysler', 'LeBaron', 'Compact', 14.5, 15.8, 17.1, 23.0, 28.0, 'Driver & Passenger', 'Front', '4', 3.0, 141.0, 5000.0, 2090.0, 'No', 16.0, 6.0, 183.0, 104.0, 68.0, 41.0, 30.5, 14.0, 3085.0, 'USA', 'Chrysler LeBaron'], ['Chrysler', 'Imperial', 'Large', 29.5, 29.5, 29.5, 20.0, 26.0, 'Driver only', 'Front', '6', 3.3, 147.0, 4800.0, 1785.0, 'No', 16.0, 6.0, 203.0, 110.0, 69.0, 44.0, 36.0, 17.0, 3570.0, 'USA', 'Chrysler Imperial'], ['Dodge', 'Colt', 'Small', 7.9, 9.2, 10.6, 29.0, 33.0, nan, 'Front', '4', 1.5, 92.0, 6000.0, 3285.0, 'Yes', nan, 5.0, 174.0, 98.0, 66.0, 32.0, nan, 11.0, 2270.0, 'USA', 'Dodge Colt'], ['Dodge', 'Shadow', 'Small', 8.4, 11.3, 14.2, 23.0, 29.0, 'Driver only', 'Front', '4', 2.2, 93.0, 4800.0, nan, 'Yes', 14.0, 5.0, 172.0, 97.0, 67.0, 38.0, 26.5, nan, 2670.0, 'USA', 'Dodge Shadow'], ['Dodge', 'Spirit', 'Compact', 11.9, 13.3, 14.7, 22.0, 27.0, 'Driver only', 'Front', '4', 2.5, 100.0, 4800.0, 2535.0, 'Yes', nan, 6.0, 181.0, 104.0, 68.0, 39.0, 30.5, nan, 2970.0, 'USA', 'Dodge Spirit'], ['Dodge', 'Caravan', 'Van', nan, 19.0, 24.4, 17.0, 21.0, 'Driver only', '4WD', '6', 3.0, 142.0, 5000.0, 1970.0, 'No', 20.0, 7.0, 175.0, 112.0, 72.0, 42.0, 26.5, nan, 3705.0, 'USA', 'Dodge Caravan'], ['Dodge', 'Dynasty', 'Midsize', 14.8, 15.6, 16.4, 21.0, nan, 'Driver only', 'Front', nan, 2.5, 100.0, 4800.0, 2465.0, 'No', 16.0, 6.0, 192.0, 105.0, 69.0, 42.0, 30.5, 16.0, 3080.0, 'USA', 'Dodge Dynasty'], ['Dodge', 'Stealth', 'Sporty', 18.5, 25.8, 33.1, nan, 24.0, 'Driver only', '4WD', '6', 3.0, 300.0, 6000.0, 2120.0, 'Yes', 19.8, 4.0, 180.0, 97.0, nan, 40.0, 20.0, 11.0, 3805.0, 'USA', 'Dodge Stealth'], ['Eagle', 'Summit', 'Small', 7.9, 12.2, 16.5, 29.0, 33.0, nan, 'Front', '4', 1.5, 92.0, 6000.0, 2505.0, 'Yes', 13.2, 5.0, 174.0, 98.0, 66.0, 36.0, 26.5, 11.0, 2295.0, 'USA', 'Eagle Summit'], ['Eagle', 'Vision', 'Large', nan, 19.3, 21.2, 20.0, 28.0, 'Driver & Passenger', 'Front', '6', 3.5, nan, 5800.0, 1980.0, 'No', 18.0, 6.0, 202.0, 113.0, 74.0, 40.0, 30.0, 15.0, 3490.0, 'USA', 'Eagle Vision'], ['Ford', 'Festiva', 'Small', 6.9, 7.4, 7.9, 31.0, 33.0, nan, 'Front', '4', 1.3, 63.0, 5000.0, 3150.0, 'Yes', 10.0, 4.0, 141.0, 90.0, 63.0, 33.0, 26.0, 12.0, 1845.0, 'USA', 'Ford Festiva'], ['Ford', 'Escort', 'Small', 8.4, 10.1, 11.9, 23.0, 30.0, nan, 'Front', '4', 1.8, 127.0, 6500.0, 2410.0, nan, 13.2, 5.0, 171.0, 98.0, 67.0, 36.0, 28.0, 12.0, 2530.0, 'USA', 'Ford Escort'], ['Ford', 'Tempo', 'Compact', 10.4, 11.3, 12.2, 22.0, 27.0, nan, 'Front', '4', 2.3, 96.0, 4200.0, 2805.0, 'Yes', 15.9, 5.0, 177.0, 100.0, 68.0, nan, 27.5, 13.0, nan, 'USA', nan], ['Ford', 'Mustang', 'Sporty', 10.8, 15.9, 21.0, 22.0, 29.0, 'Driver only', 'Rear', '4', 2.3, 105.0, 4600.0, 2285.0, 'Yes', 15.4, 4.0, 180.0, 101.0, 68.0, 40.0, 24.0, 12.0, nan, 'USA', 'Ford Mustang'], ['Ford', 'Probe', 'Sporty', 12.8, 14.0, 15.2, nan, 30.0, 'Driver only', 'Front', '4', 2.0, 115.0, 5500.0, 2340.0, 'Yes', 15.5, 4.0, 179.0, 103.0, 70.0, 38.0, 23.0, 18.0, 2710.0, 'USA', 'Ford Probe'], ['Ford', 'Aerostar', 'Van', 14.5, 19.9, 25.3, 15.0, 20.0, 'Driver only', '4WD', '6', 3.0, 145.0, 4800.0, 2080.0, 'Yes', 21.0, 7.0, 176.0, 119.0, 72.0, 45.0, 30.0, nan, 3735.0, 'USA', 'Ford Aerostar'], ['Ford', 'Taurus', 'Midsize', 15.6, 20.2, 24.8, 21.0, 30.0, 'Driver only', 'Front', '6', 3.0, nan, 4800.0, 1885.0, 'No', nan, 5.0, 192.0, 106.0, 71.0, 40.0, 27.5, 18.0, 3325.0, 'USA', 'Ford Taurus'], ['Ford', 'Crown_Victoria', 'Large', 20.1, 20.9, 21.7, 18.0, 26.0, 'Driver only', 'Rear', '8', 4.6, 190.0, 4200.0, nan, 'No', 20.0, 6.0, 212.0, 114.0, 78.0, 43.0, 30.0, 21.0, 3950.0, 'USA', 'Ford Crown_Victoria'], ['Geo', 'Metro', 'Small', 6.7, 8.4, 10.0, 46.0, 50.0, nan, 'Front', '3', 1.0, 55.0, 5700.0, 3755.0, nan, 10.6, 4.0, 151.0, 93.0, 63.0, 34.0, 27.5, 10.0, 1695.0, 'non-USA', 'Geo Metro'], ['Geo', 'Storm', 'Sporty', 11.5, 12.5, 13.5, 30.0, 36.0, 'Driver only', 'Front', '4', 1.6, 90.0, 5400.0, 3250.0, 'Yes', 12.4, 4.0, 164.0, 97.0, nan, 37.0, 24.5, 11.0, 2475.0, 'non-USA', 'Geo Storm'], ['Honda', 'Prelude', 'Sporty', 17.0, 19.8, 22.7, 24.0, 31.0, 'Driver & Passenger', 'Front', '4', 2.3, 160.0, 5800.0, 2855.0, 'Yes', nan, 4.0, 175.0, 100.0, 70.0, 39.0, 23.5, 8.0, 2865.0, 'non-USA', 'Honda Prelude'], ['Honda', 'Civic', 'Small', 8.4, 12.1, 15.8, 42.0, 46.0, 'Driver only', 'Front', '4', 1.5, nan, 5900.0, 2650.0, 'Yes', 11.9, 4.0, 173.0, nan, 67.0, 36.0, 28.0, 12.0, nan, 'non-USA', 'Honda Civic'], ['Honda', 'Accord', 'Compact', 13.8, 17.5, 21.2, 24.0, 31.0, 'Driver & Passenger', 'Front', '4', 2.2, 140.0, 5600.0, nan, 'Yes', 17.0, 4.0, 185.0, 107.0, 67.0, 41.0, 28.0, 14.0, 3040.0, 'non-USA', 'Honda Accord'], ['Hyundai', 'Excel', 'Small', 6.8, 8.0, 9.2, 29.0, 33.0, nan, 'Front', '4', 1.5, 81.0, 5500.0, 2710.0, 'Yes', 11.9, 5.0, 168.0, 94.0, 63.0, 35.0, 26.0, 11.0, 2345.0, 'non-USA', 'Hyundai Excel'], ['Hyundai', 'Elantra', 'Small', 9.0, 10.0, 11.0, nan, 29.0, nan, 'Front', '4', 1.8, 124.0, 6000.0, 2745.0, 'Yes', 13.7, 5.0, 172.0, 98.0, 66.0, 36.0, 28.0, 12.0, 2620.0, 'non-USA', 'Hyundai Elantra'], ['Hyundai', 'Scoupe', nan, 9.1, 10.0, 11.0, 26.0, 34.0, nan, 'Front', '4', 1.5, 92.0, 5550.0, 2540.0, 'Yes', 11.9, 4.0, 166.0, 94.0, 64.0, 34.0, 23.5, 9.0, 2285.0, 'non-USA', nan], ['Hyundai', 'Sonata', 'Midsize', 12.4, 13.9, 15.3, 20.0, 27.0, nan, 'Front', '4', 2.0, 128.0, 6000.0, 2335.0, 'Yes', 17.2, 5.0, 184.0, 104.0, 69.0, 41.0, 31.0, nan, 2885.0, nan, 'Hyundai Sonata'], ['Infiniti', 'Q45', 'Midsize', 45.4, 47.9, nan, 17.0, 22.0, nan, 'Rear', '8', 4.5, 278.0, 6000.0, 1955.0, 'No', 22.5, 5.0, 200.0, 113.0, 72.0, 42.0, 29.0, 15.0, 4000.0, 'non-USA', 'Infiniti Q45'], ['Lexus', 'ES300', 'Midsize', 27.5, 28.0, 28.4, 18.0, 24.0, 'Driver only', 'Front', '6', 3.0, 185.0, nan, 2325.0, 'Yes', 18.5, 5.0, 188.0, 103.0, 70.0, 40.0, 27.5, 14.0, 3510.0, 'non-USA', 'Lexus ES300'], [nan, 'SC300', 'Midsize', 34.7, 35.2, 35.6, 18.0, 23.0, 'Driver & Passenger', 'Rear', '6', 3.0, 225.0, 6000.0, 2510.0, 'Yes', nan, 4.0, 191.0, 106.0, 71.0, 39.0, 25.0, 9.0, 3515.0, 'non-USA', 'Lexus SC300'], ['Lincoln', 'Continental', 'Midsize', 33.3, 34.3, 35.3, 17.0, 26.0, 'Driver & Passenger', nan, '6', 3.8, 160.0, 4400.0, 1835.0, 'No', 18.4, 6.0, 205.0, 109.0, 73.0, 42.0, 30.0, 19.0, 3695.0, 'USA', 'Lincoln Continental'], ['Lincoln', 'Town_Car', 'Large', 34.4, 36.1, 37.8, 18.0, 26.0, 'Driver & Passenger', 'Rear', '8', 4.6, 210.0, 4600.0, 1840.0, 'No', 20.0, nan, 219.0, 117.0, 77.0, 45.0, 31.5, 22.0, 4055.0, 'USA', 'Lincoln Town_Car'], ['Mazda', '323', 'Small', 7.4, 8.3, 9.1, 29.0, 37.0, nan, 'Front', '4', 1.6, 82.0, 5000.0, 2370.0, 'Yes', 13.2, 4.0, 164.0, 97.0, 66.0, 34.0, 27.0, 16.0, 2325.0, 'non-USA', 'Mazda 323'], ['Mazda', 'Protege', 'Small', 10.9, 11.6, 12.3, 28.0, 36.0, nan, 'Front', '4', 1.8, 103.0, 5500.0, 2220.0, 'Yes', 14.5, 5.0, 172.0, 98.0, 66.0, 36.0, 26.5, 13.0, 2440.0, 'non-USA', 'Mazda Protege'], ['Mazda', '626', 'Compact', 14.3, 16.5, 18.7, 26.0, 34.0, 'Driver only', 'Front', '4', 2.5, 164.0, 5600.0, 2505.0, 'Yes', 15.5, 5.0, 184.0, 103.0, 69.0, 40.0, 29.5, 14.0, 2970.0, 'non-USA', 'Mazda 626'], ['Mazda', 'MPV', 'Van', 16.6, 19.1, 21.7, 18.0, 24.0, nan, '4WD', '6', 3.0, 155.0, 5000.0, 2240.0, 'No', 19.6, 7.0, 190.0, 110.0, 72.0, 39.0, 27.5, nan, 3735.0, 'non-USA', 'Mazda MPV'], ['Mazda', 'RX-7', 'Sporty', 32.5, 32.5, 32.5, 17.0, 25.0, 'Driver only', nan, 'rotary', 1.3, 255.0, 6500.0, 2325.0, 'Yes', 20.0, 2.0, 169.0, 96.0, 69.0, nan, nan, nan, nan, 'non-USA', 'Mazda RX-7'], ['Mercedes-Benz', '190E', 'Compact', 29.0, 31.9, 34.9, nan, 29.0, 'Driver only', 'Rear', '4', 2.3, 130.0, 5100.0, 2425.0, 'Yes', 14.5, 5.0, 175.0, 105.0, 67.0, 34.0, 26.0, 12.0, 2920.0, nan, 'Mercedes-Benz 190E'], ['Mercedes-Benz', '300E', 'Midsize', 43.8, 61.9, 80.0, 19.0, 25.0, 'Driver & Passenger', 'Rear', '6', 3.2, 217.0, 5500.0, 2220.0, 'No', 18.5, 5.0, nan, 110.0, 69.0, 37.0, nan, 15.0, 3525.0, 'non-USA', 'Mercedes-Benz 300E'], ['Mercury', nan, 'Sporty', 13.3, 14.1, 15.0, 23.0, 26.0, 'Driver only', 'Front', '4', 1.6, 100.0, 5750.0, 2475.0, 'Yes', 11.1, 4.0, 166.0, 95.0, 65.0, 36.0, 19.0, 6.0, 2450.0, 'USA', 'Mercury Capri'], ['Mercury', 'Cougar', 'Midsize', 14.9, 14.9, 14.9, 19.0, 26.0, nan, 'Rear', '6', 3.8, 140.0, 3800.0, 1730.0, 'No', 18.0, 5.0, 199.0, 113.0, 73.0, 38.0, 28.0, 15.0, 3610.0, 'USA', 'Mercury Cougar'], ['Mitsubishi', 'Mirage', 'Small', 7.7, 10.3, 12.9, 29.0, nan, nan, 'Front', '4', 1.5, 92.0, 6000.0, 2505.0, 'Yes', 13.2, 5.0, 172.0, 98.0, 67.0, 36.0, 26.0, 11.0, 2295.0, 'non-USA', 'Mitsubishi Mirage'], ['Mitsubishi', 'Diamante', 'Midsize', 22.4, 26.1, nan, 18.0, 24.0, 'Driver only', 'Front', '6', 3.0, 202.0, 6000.0, 2210.0, 'No', 19.0, 5.0, 190.0, 107.0, 70.0, 43.0, 27.5, 14.0, 3730.0, 'non-USA', 'Mitsubishi Diamante'], ['Nissan', 'Sentra', 'Small', 8.7, 11.8, 14.9, 29.0, 33.0, 'Driver only', 'Front', nan, 1.6, 110.0, 6000.0, 2435.0, 'Yes', 13.2, 5.0, 170.0, 96.0, 66.0, 33.0, 26.0, nan, nan, 'non-USA', 'Nissan Sentra'], ['Nissan', 'Altima', 'Compact', 13.0, 15.7, 18.3, 24.0, 30.0, 'Driver only', 'Front', '4', 2.4, 150.0, 5600.0, 2130.0, 'Yes', 15.9, 5.0, 181.0, 103.0, 67.0, 40.0, 28.5, 14.0, 3050.0, 'non-USA', 'Nissan Altima'], ['Nissan', 'Quest', 'Van', 16.7, 19.1, 21.5, 17.0, 23.0, nan, 'Front', '6', 3.0, nan, 4800.0, 2065.0, 'No', 20.0, 7.0, 190.0, 112.0, 74.0, 41.0, 27.0, nan, 4100.0, 'non-USA', 'Nissan Quest'], ['Nissan', 'Maxima', 'Midsize', 21.0, 21.5, 22.0, 21.0, 26.0, 'Driver only', 'Front', '6', 3.0, 160.0, 5200.0, 2045.0, nan, 18.5, 5.0, 188.0, 104.0, 69.0, 41.0, 28.5, 14.0, 3200.0, 'non-USA', 'Nissan Maxima'], ['Oldsmobile', 'Achieva', 'Compact', 13.0, 13.5, 14.0, 24.0, 31.0, nan, 'Front', '4', 2.3, 155.0, 6000.0, 2380.0, 'No', 15.2, 5.0, 188.0, 103.0, 67.0, 39.0, 28.0, 14.0, 2910.0, 'USA', 'Oldsmobile Achieva'], ['Oldsmobile', 'Cutlass_Ciera', 'Midsize', 14.2, 16.3, 18.4, 23.0, 31.0, 'Driver only', 'Front', '4', 2.2, 110.0, 5200.0, 2565.0, 'No', nan, 5.0, 190.0, 105.0, 70.0, 42.0, 28.0, 16.0, 2890.0, 'USA', 'Oldsmobile Cutlass_Ciera'], ['Oldsmobile', 'Silhouette', 'Van', 19.5, 19.5, 19.5, 18.0, 23.0, nan, 'Front', '6', 3.8, 170.0, 4800.0, 1690.0, 'No', 20.0, 7.0, nan, 110.0, 74.0, 44.0, 30.5, nan, 3715.0, 'USA', 'Oldsmobile Silhouette'], ['Oldsmobile', 'Eighty-Eight', 'Large', 19.5, 20.7, 21.9, nan, 28.0, 'Driver only', 'Front', '6', 3.8, 170.0, 4800.0, 1570.0, 'No', 18.0, 6.0, 201.0, 111.0, 74.0, 42.0, 31.5, 17.0, 3470.0, 'USA', 'Oldsmobile Eighty-Eight'], ['Plymouth', 'Laser', 'Sporty', 11.4, 14.4, 17.4, nan, 30.0, nan, '4WD', '4', 1.8, 92.0, 5000.0, 2360.0, 'Yes', 15.9, 4.0, 173.0, 97.0, 67.0, 39.0, 24.5, 8.0, 2640.0, nan, 'Plymouth Laser'], ['Pontiac', 'LeMans', 'Small', nan, 9.0, 9.9, 31.0, 41.0, nan, 'Front', '4', 1.6, 74.0, 5600.0, 3130.0, 'Yes', 13.2, 4.0, 177.0, 99.0, 66.0, 35.0, 25.5, 17.0, 2350.0, 'USA', 'Pontiac LeMans'], ['Pontiac', 'Sunbird', 'Compact', 9.4, 11.1, 12.8, nan, 31.0, nan, nan, '4', 2.0, 110.0, 5200.0, 2665.0, 'Yes', 15.2, 5.0, 181.0, 101.0, 66.0, 39.0, 25.0, 13.0, nan, 'USA', nan], ['Pontiac', 'Firebird', nan, 14.0, 17.7, 21.4, 19.0, 28.0, 'Driver & Passenger', 'Rear', '6', nan, 160.0, 4600.0, 1805.0, 'Yes', 15.5, 4.0, 196.0, 101.0, 75.0, 43.0, 25.0, 13.0, 3240.0, 'USA', 'Pontiac Firebird'], ['Pontiac', 'Grand_Prix', 'Midsize', 15.4, 18.5, 21.6, 19.0, 27.0, nan, 'Front', '6', 3.4, 200.0, 5000.0, 1890.0, 'Yes', 16.5, 5.0, 195.0, 108.0, 72.0, 41.0, 28.5, 16.0, 3450.0, 'USA', 'Pontiac Grand_Prix'], ['Pontiac', 'Bonneville', 'Large', 19.4, 24.4, 29.4, 19.0, 28.0, 'Driver & Passenger', 'Front', '6', 3.8, 170.0, 4800.0, 1565.0, 'No', 18.0, 6.0, 177.0, 111.0, 74.0, 43.0, 30.5, 18.0, 3495.0, 'USA', 'Pontiac Bonneville'], ['Saab', '900', 'Compact', 20.3, 28.7, 37.1, 20.0, 26.0, nan, 'Front', '4', 2.1, 140.0, 6000.0, 2910.0, 'Yes', 18.0, 5.0, nan, 99.0, 67.0, 37.0, 26.5, 14.0, 2775.0, 'non-USA', 'Saab 900'], ['Saturn', 'SL', 'Small', 9.2, nan, 12.9, nan, 38.0, 'Driver only', 'Front', '4', 1.9, 85.0, 5000.0, 2145.0, 'Yes', 12.8, 5.0, 176.0, 102.0, 68.0, 40.0, 26.5, nan, 2495.0, 'USA', 'Saturn SL'], ['Subaru', 'Justy', 'Small', 7.3, 8.4, 9.5, 33.0, 37.0, nan, '4WD', '3', 1.2, 73.0, 5600.0, 2875.0, 'Yes', 9.2, 4.0, 146.0, 90.0, 60.0, 32.0, 23.5, 10.0, 2045.0, 'non-USA', 'Subaru Justy'], ['Subaru', 'Loyale', 'Small', 10.5, 10.9, 11.3, 25.0, 30.0, nan, '4WD', '4', 1.8, 90.0, 5200.0, 3375.0, 'Yes', 15.9, 5.0, 175.0, 97.0, 65.0, 35.0, 27.5, 15.0, 2490.0, 'non-USA', 'Subaru Loyale'], ['Subaru', 'Legacy', 'Compact', 16.3, 19.5, 22.7, 23.0, 30.0, 'Driver only', '4WD', '4', 2.2, 130.0, nan, 2330.0, 'Yes', 15.9, 5.0, 179.0, 102.0, 67.0, 37.0, 27.0, 14.0, 3085.0, 'non-USA', 'Subaru Legacy'], ['Suzuki', 'Swift', nan, 7.3, 8.6, nan, 39.0, 43.0, nan, 'Front', '3', 1.3, 70.0, 6000.0, 3360.0, 'Yes', 10.6, 4.0, 161.0, 93.0, nan, 34.0, 27.5, 10.0, 1965.0, 'non-USA', 'Suzuki Swift'], ['Toyota', 'Tercel', 'Small', nan, 9.8, 11.8, 32.0, 37.0, 'Driver only', 'Front', '4', 1.5, 82.0, 5200.0, 3505.0, 'Yes', 11.9, nan, 162.0, 94.0, nan, 36.0, 24.0, 11.0, 2055.0, 'non-USA', 'Toyota Tercel'], ['Toyota', 'Celica', 'Sporty', 14.2, 18.4, 22.6, 25.0, 32.0, nan, 'Front', '4', 2.2, 135.0, nan, 2405.0, 'Yes', 15.9, 4.0, 174.0, 99.0, 69.0, nan, 23.0, 13.0, 2950.0, 'non-USA', 'Toyota Celica'], ['Toyota', 'Camry', 'Midsize', 15.2, nan, 21.2, 22.0, 29.0, 'Driver only', nan, '4', 2.2, 130.0, 5400.0, 2340.0, nan, 18.5, 5.0, 188.0, 103.0, 70.0, 38.0, 28.5, 15.0, 3030.0, 'non-USA', 'Toyota Camry'], ['Toyota', 'Previa', 'Van', nan, 22.7, 26.6, 18.0, 22.0, 'Driver only', '4WD', '4', 2.4, 138.0, 5000.0, 2515.0, 'Yes', 19.8, 7.0, 187.0, 113.0, 71.0, 41.0, 35.0, nan, 3785.0, 'non-USA', 'Toyota Previa'], ['Volkswagen', 'Fox', 'Small', 8.7, 9.1, 9.5, 25.0, 33.0, nan, 'Front', '4', 1.8, 81.0, 5500.0, 2550.0, 'Yes', 12.4, 4.0, 163.0, 93.0, 63.0, 34.0, 26.0, 10.0, 2240.0, 'non-USA', 'Volkswagen Fox'], ['Volkswagen', 'Eurovan', 'Van', 16.6, 19.7, 22.7, 17.0, 21.0, nan, 'Front', '5', 2.5, 109.0, 4500.0, 2915.0, 'Yes', 21.1, 7.0, 187.0, 115.0, 72.0, 38.0, 34.0, nan, 3960.0, nan, 'Volkswagen Eurovan'], ['Volkswagen', 'Passat', 'Compact', 17.6, 20.0, 22.4, 21.0, 30.0, nan, 'Front', '4', 2.0, 134.0, 5800.0, 2685.0, 'Yes', 18.5, 5.0, 180.0, 103.0, 67.0, 35.0, 31.5, 14.0, 2985.0, 'non-USA', 'Volkswagen Passat'], ['Volkswagen', 'Corrado', 'Sporty', 22.9, 23.3, 23.7, 18.0, 25.0, nan, 'Front', '6', 2.8, 178.0, 5800.0, 2385.0, 'Yes', 18.5, 4.0, 159.0, 97.0, 66.0, 36.0, 26.0, 15.0, 2810.0, 'non-USA', 'Volkswagen Corrado'], ['Volvo', '240', 'Compact', 21.8, 22.7, 23.5, 21.0, 28.0, 'Driver only', 'Rear', nan, 2.3, 114.0, 5400.0, 2215.0, 'Yes', 15.8, 5.0, 190.0, 104.0, 67.0, 37.0, 29.5, 14.0, 2985.0, 'non-USA', 'Volvo 240'], [nan, '850', 'Midsize', 24.8, 26.7, 28.5, 20.0, 28.0, 'Driver & Passenger', 'Front', '5', 2.4, 168.0, 6200.0, nan, 'Yes', 19.3, 5.0, 184.0, 105.0, 69.0, 38.0, 30.0, 15.0, 3245.0, 'non-USA', 'Volvo 850']]\n"
     ]
    }
   ],
   "source": [
    "import pandas as pd\n",
    "\n",
    "url = 'https://raw.githubusercontent.com/selva86/datasets/master/Cars93_miss.csv'\n",
    "cars93 = pd.read_csv(url)\n",
    "\n",
    "num_rows, num_columns = cars93.shape\n",
    "print(f\"Количество строк: {num_rows}\")\n",
    "print(f\"Количество столбцов: {num_columns}\")\n",
    "\n",
    "data_types = cars93.dtypes\n",
    "print(\"\\nТипы данных каждого столбца:\")\n",
    "print(data_types)\n",
    "\n",
    "summary_statistics = cars93.describe(include='all')\n",
    "print(\"\\nСуммарная статистика каждого столбца:\")\n",
    "print(summary_statistics)\n",
    "\n",
    "numpy_array = cars93.to_numpy()\n",
    "print(\"\\nЭквивалент датафрейма в виде numpy-массива:\")\n",
    "print(numpy_array)\n",
    "\n",
    "list_representation = cars93.values.tolist()\n",
    "print(\"\\nЭквивалент датафрейма в виде списка:\")\n",
    "print(list_representation)"
   ]
  },
  {
   "cell_type": "markdown",
   "metadata": {},
   "source": [
    "Упражнение 37"
   ]
  },
  {
   "cell_type": "code",
   "execution_count": 89,
   "metadata": {},
   "outputs": [
    {
     "name": "stdout",
     "output_type": "stream",
     "text": [
      "Производитель: Mercedes-Benz\n",
      "Модель: 300E\n",
      "Тип: Midsize\n",
      "Номер строки: 58\n",
      "Номер столбца: 4\n"
     ]
    }
   ],
   "source": [
    "import pandas as pd\n",
    "\n",
    "df = pd.read_csv('https://raw.githubusercontent.com/selva86/datasets/master/Cars93_miss.csv')\n",
    "\n",
    "max_price_row = df.loc[df['Price'].idxmax()]\n",
    "\n",
    "manufacturer = max_price_row['Manufacturer']\n",
    "model = max_price_row['Model']\n",
    "car_type = max_price_row['Type']\n",
    "\n",
    "max_price_index = df['Price'].idxmax()\n",
    "max_price_column_index = df.columns.get_loc('Price')\n",
    "\n",
    "print(f\"Производитель: {manufacturer}\")\n",
    "print(f\"Модель: {model}\")\n",
    "print(f\"Тип: {car_type}\")\n",
    "print(f\"Номер строки: {max_price_index}\")\n",
    "print(f\"Номер столбца: {max_price_column_index}\")"
   ]
  },
  {
   "cell_type": "markdown",
   "metadata": {},
   "source": [
    "Упражнение 38"
   ]
  },
  {
   "cell_type": "code",
   "execution_count": 90,
   "metadata": {},
   "outputs": [
    {
     "name": "stdout",
     "output_type": "stream",
     "text": [
      "Index(['Manufacturer', 'Model', 'CarType', 'Min_Price', 'Price', 'Max_Price',\n",
      "       'MPG_city', 'MPG_highway', 'AirBags', 'DriveTrain', 'Cylinders',\n",
      "       'EngineSize', 'Horsepower', 'RPM', 'Rev_per_mile', 'Man_trans_avail',\n",
      "       'Fuel_tank_capacity', 'Passengers', 'Length', 'Wheelbase', 'Width',\n",
      "       'Turn_circle', 'Rear_seat_room', 'Luggage_room', 'Weight', 'Origin',\n",
      "       'Make'],\n",
      "      dtype='object')\n"
     ]
    }
   ],
   "source": [
    "import pandas as pd\n",
    "\n",
    "df = pd.read_csv('https://raw.githubusercontent.com/selva86/datasets/master/Cars93_miss.csv')\n",
    "\n",
    "df.rename(columns={'Type': 'CarType'}, inplace=True)\n",
    "\n",
    "df.columns = df.columns.str.replace('.', '_')\n",
    "\n",
    "print(df.columns)"
   ]
  },
  {
   "cell_type": "markdown",
   "metadata": {},
   "source": [
    "Упражнение 39"
   ]
  },
  {
   "cell_type": "code",
   "execution_count": 92,
   "metadata": {},
   "outputs": [
    {
     "name": "stdout",
     "output_type": "stream",
     "text": [
      "Есть пустышки\n"
     ]
    }
   ],
   "source": [
    "import pandas as pd\n",
    "\n",
    "df = pd.read_csv('https://raw.githubusercontent.com/selva86/datasets/master/Cars93_miss.csv')\n",
    "\n",
    "missingValues = df.isnull().sum()\n",
    "\n",
    "if missingValues.sum() == 0:\n",
    "    print(\"Нету пустышек\")\n",
    "else:\n",
    "    print(\"Есть пустышки\")"
   ]
  },
  {
   "cell_type": "markdown",
   "metadata": {},
   "source": [
    "Упражнение 40"
   ]
  },
  {
   "cell_type": "code",
   "execution_count": 93,
   "metadata": {},
   "outputs": [
    {
     "name": "stdout",
     "output_type": "stream",
     "text": [
      "Кол-во пропусков в каждом столбце: {'Manufacturer': 4, 'Model': 1, 'Type': 3, 'Min.Price': 7, 'Price': 2, 'Max.Price': 5, 'MPG.city': 9, 'MPG.highway': 2, 'AirBags': 38, 'DriveTrain': 7, 'Cylinders': 5, 'EngineSize': 2, 'Horsepower': 7, 'RPM': 3, 'Rev.per.mile': 6, 'Man.trans.avail': 5, 'Fuel.tank.capacity': 8, 'Passengers': 2, 'Length': 4, 'Wheelbase': 1, 'Width': 6, 'Turn.circle': 5, 'Rear.seat.room': 4, 'Luggage.room': 19, 'Weight': 7, 'Origin': 5, 'Make': 3}\n",
      "Столбец с самым большим кол-во пропусков: AirBags - 38\n"
     ]
    }
   ],
   "source": [
    "import pandas as pd\n",
    "\n",
    "df = pd.read_csv('https://raw.githubusercontent.com/selva86/datasets/master/Cars93_miss.csv')\n",
    "\n",
    "missingValues = {}\n",
    "\n",
    "for column in df.columns:\n",
    "    missingValues[column] = int(df[column].isna().sum())\n",
    "\n",
    "print(f\"Кол-во пропусков в каждом столбце: {missingValues}\")\n",
    "veryBadTabel = max(missingValues, key= missingValues.get)\n",
    "print(f\"Столбец с самым большим кол-во пропусков: {veryBadTabel} - {missingValues[veryBadTabel]}\")"
   ]
  },
  {
   "cell_type": "markdown",
   "metadata": {},
   "source": [
    "Упражнение 41"
   ]
  },
  {
   "cell_type": "code",
   "execution_count": null,
   "metadata": {},
   "outputs": [
    {
     "name": "stdout",
     "output_type": "stream",
     "text": [
      "Min.Price    0\n",
      "Max.Price    0\n",
      "dtype: int64\n",
      "None\n"
     ]
    }
   ],
   "source": [
    "import pandas as pd\n",
    "\n",
    "df = pd.read_csv('https://raw.githubusercontent.com/selva86/datasets/master/Cars93_miss.csv')\n",
    "\n",
    "df.fillna({'Min.Price': df['Min.Price'].mean()}, inplace=True)\n",
    "df.fillna({'Max.Price': df['Max.Price'].mean()}, inplace=True)\n",
    "\n",
    "print(print(df[['Min.Price', 'Max.Price']].isnull().sum()))"
   ]
  },
  {
   "cell_type": "markdown",
   "metadata": {},
   "source": [
    "Упражнение 42"
   ]
  },
  {
   "cell_type": "code",
   "execution_count": 95,
   "metadata": {},
   "outputs": [
    {
     "name": "stdout",
     "output_type": "stream",
     "text": [
      "Min.Price    0\n",
      "Max.Price    0\n",
      "dtype: int64\n"
     ]
    }
   ],
   "source": [
    "import pandas as pd\n",
    "\n",
    "df = pd.read_csv('https://raw.githubusercontent.com/selva86/datasets/master/Cars93_miss.csv')\n",
    "\n",
    "meanMin = df['Min.Price'].mean()\n",
    "medianMax = df['Max.Price'].median()\n",
    "\n",
    "df['Min.Price'] = df['Min.Price'].apply(lambda x: meanMin if pd.isna(x) else x)\n",
    "df['Max.Price'] = df['Max.Price'].apply(lambda x: medianMax if pd.isna(x) else x)\n",
    "\n",
    "print(df[['Min.Price', 'Max.Price']].isnull().sum())"
   ]
  },
  {
   "cell_type": "markdown",
   "metadata": {},
   "source": [
    "Упражнение 43"
   ]
  },
  {
   "cell_type": "code",
   "execution_count": 97,
   "metadata": {},
   "outputs": [
    {
     "name": "stdout",
     "output_type": "stream",
     "text": [
      "    a   b   c   d   e\n",
      "0   0   1   2   3   4\n",
      "1   5   6   7   8   9\n",
      "2  10  11  12  13  14\n",
      "3  15  16  17  18  19 \n",
      "\n",
      "    a\n",
      "0   0\n",
      "1   5\n",
      "2  10\n",
      "3  15\n"
     ]
    }
   ],
   "source": [
    "import numpy as np\n",
    "import pandas as pd\n",
    "\n",
    "df = pd.DataFrame(np.arange(20).reshape(-1, 5), columns=list('abcde'))\n",
    "\n",
    "print(df, \"\\n\")\n",
    "\n",
    "print(pd.DataFrame(df[\"a\"]))"
   ]
  },
  {
   "cell_type": "markdown",
   "metadata": {},
   "source": [
    "Упражнение 44"
   ]
  },
  {
   "cell_type": "code",
   "execution_count": 98,
   "metadata": {},
   "outputs": [
    {
     "name": "stdout",
     "output_type": "stream",
     "text": [
      "    a   b   c   d   e\n",
      "0   0   1   2   3   4\n",
      "1   5   6   7   8   9\n",
      "2  10  11  12  13  14\n",
      "3  15  16  17  18  19\n",
      "\n",
      "\n",
      "    c   b   a   d   e\n",
      "0   2   1   0   3   4\n",
      "1   7   6   5   8   9\n",
      "2  12  11  10  13  14\n",
      "3  17  16  15  18  19\n",
      "\n",
      "\n",
      "\n",
      "\n",
      "    c   b   a   d   e\n",
      "0   0   1   2   3   4\n",
      "1   5   6   7   8   9\n",
      "2  10  11  12  13  14\n",
      "3  15  16  17  18  19\n",
      "\n",
      "\n",
      "    e   d   c   b   a\n",
      "0   4   3   0   1   2\n",
      "1   9   8   5   6   7\n",
      "2  14  13  10  11  12\n",
      "3  19  18  15  16  17\n"
     ]
    }
   ],
   "source": [
    "import pandas as pd\n",
    "import numpy as np\n",
    "\n",
    "def SwitchTables(df: pd.DataFrame, col1: str, col2: str):\n",
    "    df[[col1, col2]] = df[[col2, col1]]\n",
    "\n",
    "df = pd.DataFrame(np.arange(20).reshape(-1, 5), columns=list('abcde'))\n",
    "print(df)\n",
    "print('\\n')\n",
    "df = df[[\"c\", \"b\", \"a\", \"d\", \"e\"]]\n",
    "print(df)\n",
    "print('\\n')\n",
    "SwitchTables(df, \"c\", \"a\")\n",
    "print('\\n')\n",
    "print(df)\n",
    "df = df.sort_index(axis=1, ascending=False)\n",
    "print('\\n')\n",
    "print(df)\n"
   ]
  },
  {
   "cell_type": "markdown",
   "metadata": {},
   "source": [
    "Упражнение 45"
   ]
  },
  {
   "cell_type": "code",
   "execution_count": 99,
   "metadata": {},
   "outputs": [
    {
     "name": "stdout",
     "output_type": "stream",
     "text": [
      "   Manufacturer    Model     Type  Min.Price  Price  ...  Rear.seat.room  \\\n",
      "0         Acura  Integra    Small       12.9   15.9  ...            26.5   \n",
      "1           NaN   Legend  Midsize       29.2   33.9  ...            30.0   \n",
      "2          Audi       90  Compact       25.9   29.1  ...            28.0   \n",
      "3          Audi      100  Midsize        NaN   37.7  ...            31.0   \n",
      "4           BMW     535i  Midsize        NaN   30.0  ...            27.0   \n",
      "..          ...      ...      ...        ...    ...  ...             ...   \n",
      "88   Volkswagen  Eurovan      Van       16.6   19.7  ...            34.0   \n",
      "89   Volkswagen   Passat  Compact       17.6   20.0  ...            31.5   \n",
      "90   Volkswagen  Corrado   Sporty       22.9   23.3  ...            26.0   \n",
      "91        Volvo      240  Compact       21.8   22.7  ...            29.5   \n",
      "92          NaN      850  Midsize       24.8   26.7  ...            30.0   \n",
      "\n",
      "    Luggage.room  Weight   Origin                Make  \n",
      "0            NaN  2705.0  non-USA       Acura Integra  \n",
      "1           15.0  3560.0  non-USA        Acura Legend  \n",
      "2           14.0  3375.0  non-USA             Audi 90  \n",
      "3           17.0  3405.0  non-USA            Audi 100  \n",
      "4           13.0  3640.0  non-USA            BMW 535i  \n",
      "..           ...     ...      ...                 ...  \n",
      "88           NaN  3960.0      NaN  Volkswagen Eurovan  \n",
      "89          14.0  2985.0  non-USA   Volkswagen Passat  \n",
      "90          15.0  2810.0  non-USA  Volkswagen Corrado  \n",
      "91          14.0  2985.0  non-USA           Volvo 240  \n",
      "92          15.0  3245.0  non-USA           Volvo 850  \n",
      "\n",
      "[93 rows x 27 columns]\n"
     ]
    }
   ],
   "source": [
    "import pandas as pd\n",
    "\n",
    "df = pd.read_csv('https://raw.githubusercontent.com/selva86/datasets/master/Cars93_miss.csv')\n",
    "\n",
    "pd.set_option('display.max_rows', 10)\n",
    "pd.set_option('display.max_columns', 10)\n",
    "\n",
    "print(df)\n",
    "\n",
    "pd.reset_option('display.max_rows')\n",
    "pd.reset_option('display.max_columns')"
   ]
  },
  {
   "cell_type": "markdown",
   "metadata": {},
   "source": [
    "Упражнение 46"
   ]
  },
  {
   "cell_type": "code",
   "execution_count": 102,
   "metadata": {},
   "outputs": [
    {
     "name": "stdout",
     "output_type": "stream",
     "text": [
      "   random\n",
      "0  0.0000\n",
      "1  0.9395\n",
      "2  0.0004\n",
      "3  0.0000\n"
     ]
    }
   ],
   "source": [
    "import pandas as pd\n",
    "import numpy as np\n",
    "\n",
    "df = pd.DataFrame(np.random.random(4)**10, columns=['random'])\n",
    "\n",
    "pd.set_option('display.float_format', '{:.4f}'.format)\n",
    "\n",
    "print(df)\n",
    "\n",
    "pd.reset_option('display.float_format')"
   ]
  },
  {
   "cell_type": "markdown",
   "metadata": {},
   "source": [
    "Упражнение 47"
   ]
  },
  {
   "cell_type": "code",
   "execution_count": 107,
   "metadata": {},
   "outputs": [
    {
     "name": "stdout",
     "output_type": "stream",
     "text": [
      "     random\n",
      "0  0.094938\n",
      "1  0.000676\n",
      "2  0.135026\n",
      "3  0.000086 \n",
      "\n",
      "0     9.49%\n",
      "1     0.07%\n",
      "2    13.50%\n",
      "3     0.01%\n",
      "Name: random, dtype: object\n"
     ]
    }
   ],
   "source": [
    "import pandas as pd\n",
    "import numpy as np\n",
    "\n",
    "df = pd.DataFrame(np.random.random(4)**10, columns=['random'])\n",
    "\n",
    "print(df, '\\n')\n",
    "\n",
    "df = df['random'].apply(lambda x: f\"{x * 100:.2f}%\")\n",
    "\n",
    "print(df)"
   ]
  },
  {
   "cell_type": "markdown",
   "metadata": {},
   "source": [
    "Упражнение 48"
   ]
  },
  {
   "cell_type": "code",
   "execution_count": 108,
   "metadata": {},
   "outputs": [
    {
     "name": "stdout",
     "output_type": "stream",
     "text": [
      "   Manufacturer    Model     Type\n",
      "0         Acura  Integra    Small\n",
      "20     Chrysler  LeBaron  Compact\n",
      "40        Honda  Prelude   Sporty\n",
      "60      Mercury   Cougar  Midsize\n",
      "80       Subaru   Loyale    Small\n"
     ]
    }
   ],
   "source": [
    "import pandas as pd\n",
    "\n",
    "df = pd.read_csv('https://raw.githubusercontent.com/selva86/datasets/master/Cars93_miss.csv')\n",
    "\n",
    "print(df.iloc[::20, [0, 1, 2]])"
   ]
  },
  {
   "cell_type": "markdown",
   "metadata": {},
   "source": [
    "Упражнение 49"
   ]
  },
  {
   "cell_type": "code",
   "execution_count": 109,
   "metadata": {},
   "outputs": [
    {
     "name": "stdout",
     "output_type": "stream",
     "text": [
      "                          Manufacturer    Model     Type  Min.Price  Price  \\\n",
      "Index                                                                        \n",
      "Acura_Integra_Small              Acura  Integra    Small       12.9   15.9   \n",
      "missing_Legend_Midsize         missing   Legend  Midsize       29.2   33.9   \n",
      "Audi_90_Compact                   Audi       90  Compact       25.9   29.1   \n",
      "Audi_100_Midsize                  Audi      100  Midsize        NaN   37.7   \n",
      "BMW_535i_Midsize                   BMW     535i  Midsize        NaN   30.0   \n",
      "...                                ...      ...      ...        ...    ...   \n",
      "Volkswagen_Eurovan_Van      Volkswagen  Eurovan      Van       16.6   19.7   \n",
      "Volkswagen_Passat_Compact   Volkswagen   Passat  Compact       17.6   20.0   \n",
      "Volkswagen_Corrado_Sporty   Volkswagen  Corrado   Sporty       22.9   23.3   \n",
      "Volvo_240_Compact                Volvo      240  Compact       21.8   22.7   \n",
      "missing_850_Midsize            missing      850  Midsize       24.8   26.7   \n",
      "\n",
      "                           Max.Price  MPG.city  MPG.highway  \\\n",
      "Index                                                         \n",
      "Acura_Integra_Small             18.8      25.0         31.0   \n",
      "missing_Legend_Midsize          38.7      18.0         25.0   \n",
      "Audi_90_Compact                 32.3      20.0         26.0   \n",
      "Audi_100_Midsize                44.6      19.0         26.0   \n",
      "BMW_535i_Midsize                 NaN      22.0         30.0   \n",
      "...                              ...       ...          ...   \n",
      "Volkswagen_Eurovan_Van          22.7      17.0         21.0   \n",
      "Volkswagen_Passat_Compact       22.4      21.0         30.0   \n",
      "Volkswagen_Corrado_Sporty       23.7      18.0         25.0   \n",
      "Volvo_240_Compact               23.5      21.0         28.0   \n",
      "missing_850_Midsize             28.5      20.0         28.0   \n",
      "\n",
      "                                      AirBags DriveTrain  ... Passengers  \\\n",
      "Index                                                     ...              \n",
      "Acura_Integra_Small                       NaN      Front  ...        5.0   \n",
      "missing_Legend_Midsize     Driver & Passenger      Front  ...        5.0   \n",
      "Audi_90_Compact                   Driver only      Front  ...        5.0   \n",
      "Audi_100_Midsize           Driver & Passenger        NaN  ...        6.0   \n",
      "BMW_535i_Midsize                          NaN       Rear  ...        4.0   \n",
      "...                                       ...        ...  ...        ...   \n",
      "Volkswagen_Eurovan_Van                    NaN      Front  ...        7.0   \n",
      "Volkswagen_Passat_Compact                 NaN      Front  ...        5.0   \n",
      "Volkswagen_Corrado_Sporty                 NaN      Front  ...        4.0   \n",
      "Volvo_240_Compact                 Driver only       Rear  ...        5.0   \n",
      "missing_850_Midsize        Driver & Passenger      Front  ...        5.0   \n",
      "\n",
      "                           Length  Wheelbase  Width  Turn.circle  \\\n",
      "Index                                                              \n",
      "Acura_Integra_Small         177.0      102.0   68.0         37.0   \n",
      "missing_Legend_Midsize      195.0      115.0   71.0         38.0   \n",
      "Audi_90_Compact             180.0      102.0   67.0         37.0   \n",
      "Audi_100_Midsize            193.0      106.0    NaN         37.0   \n",
      "BMW_535i_Midsize            186.0      109.0   69.0         39.0   \n",
      "...                           ...        ...    ...          ...   \n",
      "Volkswagen_Eurovan_Van      187.0      115.0   72.0         38.0   \n",
      "Volkswagen_Passat_Compact   180.0      103.0   67.0         35.0   \n",
      "Volkswagen_Corrado_Sporty   159.0       97.0   66.0         36.0   \n",
      "Volvo_240_Compact           190.0      104.0   67.0         37.0   \n",
      "missing_850_Midsize         184.0      105.0   69.0         38.0   \n",
      "\n",
      "                          Rear.seat.room  Luggage.room  Weight   Origin  \\\n",
      "Index                                                                     \n",
      "Acura_Integra_Small                 26.5           NaN  2705.0  non-USA   \n",
      "missing_Legend_Midsize              30.0          15.0  3560.0  non-USA   \n",
      "Audi_90_Compact                     28.0          14.0  3375.0  non-USA   \n",
      "Audi_100_Midsize                    31.0          17.0  3405.0  non-USA   \n",
      "BMW_535i_Midsize                    27.0          13.0  3640.0  non-USA   \n",
      "...                                  ...           ...     ...      ...   \n",
      "Volkswagen_Eurovan_Van              34.0           NaN  3960.0      NaN   \n",
      "Volkswagen_Passat_Compact           31.5          14.0  2985.0  non-USA   \n",
      "Volkswagen_Corrado_Sporty           26.0          15.0  2810.0  non-USA   \n",
      "Volvo_240_Compact                   29.5          14.0  2985.0  non-USA   \n",
      "missing_850_Midsize                 30.0          15.0  3245.0  non-USA   \n",
      "\n",
      "                                         Make  \n",
      "Index                                          \n",
      "Acura_Integra_Small             Acura Integra  \n",
      "missing_Legend_Midsize           Acura Legend  \n",
      "Audi_90_Compact                       Audi 90  \n",
      "Audi_100_Midsize                     Audi 100  \n",
      "BMW_535i_Midsize                     BMW 535i  \n",
      "...                                       ...  \n",
      "Volkswagen_Eurovan_Van     Volkswagen Eurovan  \n",
      "Volkswagen_Passat_Compact   Volkswagen Passat  \n",
      "Volkswagen_Corrado_Sporty  Volkswagen Corrado  \n",
      "Volvo_240_Compact                   Volvo 240  \n",
      "missing_850_Midsize                 Volvo 850  \n",
      "\n",
      "[93 rows x 27 columns]\n",
      "Индекс является первичным ключом: True\n"
     ]
    }
   ],
   "source": [
    "import pandas as pd\n",
    "\n",
    "df = pd.read_csv('https://raw.githubusercontent.com/selva86/datasets/master/Cars93_miss.csv')\n",
    "\n",
    "df[['Manufacturer', 'Model', 'Type']] = df[['Manufacturer', 'Model', 'Type']].fillna('missing')\n",
    "\n",
    "df['Index'] = df['Manufacturer'] + '_' + df['Model'] + '_' + df['Type']\n",
    "df.set_index('Index', inplace=True)\n",
    "\n",
    "print(df)\n",
    "print(f\"Индекс является первичным ключом: {df.index.is_unique}\")"
   ]
  },
  {
   "cell_type": "markdown",
   "metadata": {},
   "source": [
    "Упражнение 50"
   ]
  },
  {
   "cell_type": "code",
   "execution_count": 116,
   "metadata": {},
   "outputs": [
    {
     "name": "stdout",
     "output_type": "stream",
     "text": [
      "6\n"
     ]
    }
   ],
   "source": [
    "import pandas as pd\n",
    "\n",
    "df = pd.DataFrame(np.random.randint(1, 30, 30).reshape(10,-1),\n",
    "columns=list('abc'))\n",
    "\n",
    "print(df[\"a\"].nlargest(5).index[-1])"
   ]
  },
  {
   "cell_type": "markdown",
   "metadata": {},
   "source": [
    "Упражнение 51"
   ]
  },
  {
   "cell_type": "code",
   "execution_count": 121,
   "metadata": {},
   "outputs": [
    {
     "name": "stdout",
     "output_type": "stream",
     "text": [
      "9\n"
     ]
    }
   ],
   "source": [
    "import pandas as pd\n",
    "import numpy as np\n",
    "\n",
    "ser = pd.Series(np.random.randint(1, 100, 15))\n",
    "\n",
    "mean = ser.mean()\n",
    "\n",
    "ser = ser[ser > mean]\n",
    "\n",
    "print(ser.nlargest(2).index[-1])"
   ]
  },
  {
   "cell_type": "markdown",
   "metadata": {},
   "source": [
    "Упражнение 52"
   ]
  },
  {
   "cell_type": "code",
   "execution_count": 125,
   "metadata": {},
   "outputs": [
    {
     "name": "stdout",
     "output_type": "stream",
     "text": [
      "     0   1   2   3\n",
      "0   18  16  29  13\n",
      "1   24  15  14  14\n",
      "2   19  19  33  23\n",
      "3   36  17  21  35\n",
      "4   26  25  34  26\n",
      "5   24  29  17  39\n",
      "6   38  24  23  22\n",
      "7   11  31  36  18\n",
      "8   10  39  20  20\n",
      "9   17  30  10  25\n",
      "10  14  30  28  39\n",
      "11  18  16  36  33\n",
      "12  32  13  17  36\n",
      "13  26  14  15  35\n",
      "14  36  22  24  38 \n",
      "\n",
      "     0   1   2   3\n",
      "11  18  16  36  33\n",
      "14  36  22  24  38\n"
     ]
    }
   ],
   "source": [
    "import pandas as pd\n",
    "import numpy as np\n",
    "\n",
    "df = pd.DataFrame(np.random.randint(10, 40, 60).reshape(-1, 4))\n",
    "\n",
    "print(df, '\\n')\n",
    "\n",
    "df = df[df.sum(axis= 1) > 100]\n",
    "\n",
    "print(df.tail(2))"
   ]
  },
  {
   "cell_type": "markdown",
   "metadata": {},
   "source": [
    "Упражнение 53"
   ]
  },
  {
   "cell_type": "code",
   "execution_count": 128,
   "metadata": {},
   "outputs": [
    {
     "name": "stdout",
     "output_type": "stream",
     "text": [
      "0       0.010000\n",
      "1       0.013738\n",
      "2       0.018874\n",
      "3       0.025929\n",
      "4       0.035622\n",
      "5       0.048939\n",
      "6       0.067234\n",
      "7       0.092367\n",
      "8       0.126896\n",
      "9       0.174333\n",
      "10      0.239503\n",
      "11      0.329034\n",
      "12      0.452035\n",
      "13      0.621017\n",
      "14      0.853168\n",
      "15      1.172102\n",
      "16      1.610262\n",
      "17      2.212216\n",
      "18      3.039195\n",
      "19      4.175319\n",
      "20      5.736153\n",
      "21      7.880463\n",
      "22     10.826367\n",
      "23     14.873521\n",
      "24     20.433597\n",
      "25     28.072162\n",
      "26     38.566204\n",
      "27     52.983169\n",
      "28     72.789538\n",
      "29    100.000000\n",
      "dtype: float64 \n",
      "\n",
      "0      0.016049\n",
      "1      0.016049\n",
      "2      0.018874\n",
      "3      0.025929\n",
      "4      0.035622\n",
      "5      0.048939\n",
      "6      0.067234\n",
      "7      0.092367\n",
      "8      0.126896\n",
      "9      0.174333\n",
      "10     0.239503\n",
      "11     0.329034\n",
      "12     0.452035\n",
      "13     0.621017\n",
      "14     0.853168\n",
      "15     1.172102\n",
      "16     1.610262\n",
      "17     2.212216\n",
      "18     3.039195\n",
      "19     4.175319\n",
      "20     5.736153\n",
      "21     7.880463\n",
      "22    10.826367\n",
      "23    14.873521\n",
      "24    20.433597\n",
      "25    28.072162\n",
      "26    38.566204\n",
      "27    52.983169\n",
      "28    63.876672\n",
      "29    63.876672\n",
      "dtype: float64\n"
     ]
    }
   ],
   "source": [
    "import pandas as pd\n",
    "import numpy as np\n",
    "\n",
    "ser = pd.Series(np.logspace(-2, 2, 30))\n",
    "\n",
    "print(ser, \"\\n\")\n",
    "\n",
    "first = ser.quantile(0.05)\n",
    "second = ser.quantile(0.95)\n",
    "\n",
    "print(ser.clip(first, second))"
   ]
  },
  {
   "cell_type": "markdown",
   "metadata": {},
   "source": [
    "Упражнение 54"
   ]
  },
  {
   "cell_type": "code",
   "execution_count": 154,
   "metadata": {},
   "outputs": [
    {
     "name": "stdout",
     "output_type": "stream",
     "text": [
      "    0   1   2   3   4   5   6   7   8   9\n",
      "0   5  22  18  -7  17  26  45  35 -15  38\n",
      "1  18   9  31  42  34  43 -16  -2  37  40\n",
      "2 -10  29  27  26 -16  -9  24  48  39 -17\n",
      "3  -6  31  49   1   9   3  20  34   3  38\n",
      "4   9  43  -4  23 -12  14  32  26  21  28\n",
      "5   2  48  20 -16  35  15  12  29  26  44\n",
      "6  17  -6  43   2  13 -16  23  39  19  35\n",
      "7  46  13 -12   2  37  10  49   2 -20  36\n",
      "8 -19  -6  38  13  33  11 -16 -15  44  21\n",
      "9 -15  24   4 -16  25  12  -6  35  36  -3 \n",
      "\n",
      "    0   1   2   3   4   5   6   7\n",
      "0   5  22  18  17  26  45  35  38\n",
      "1  18   9  31  42  34  43  37  40\n",
      "2  29  27  26  24  48  39  31  49\n",
      "3   1   9   3  20  34   3  38   9\n",
      "4  43  23  14  32  26  21  28   2\n",
      "5  48  20  35  15  12  29  26  44\n",
      "6  17  43   2  13  23  39  19  35\n",
      "7  46  13   2  37  10  49   2  36\n"
     ]
    }
   ],
   "source": [
    "import pandas as pd\n",
    "import numpy as np\n",
    "\n",
    "df = pd.DataFrame(np.random.randint(-20, 50, 100).reshape(10,-1))\n",
    "\n",
    "print(df, \"\\n\")\n",
    "\n",
    "positive = df.values[df.values >= 0].flatten()\n",
    "\n",
    "n = int(np.floor(np.sqrt(len(positive))))\n",
    "\n",
    "print(pd.DataFrame(positive[:n*n].reshape(n, n)))"
   ]
  },
  {
   "cell_type": "markdown",
   "metadata": {},
   "source": [
    "Упражнение 55"
   ]
  },
  {
   "cell_type": "code",
   "execution_count": 159,
   "metadata": {},
   "outputs": [
    {
     "name": "stdout",
     "output_type": "stream",
     "text": [
      "    0   1   2   3   4\n",
      "0   0   1   2   3   4\n",
      "1   5   6   7   8   9\n",
      "2  10  11  12  13  14\n",
      "3  15  16  17  18  19\n",
      "4  20  21  22  23  24 \n",
      "\n",
      "    0   1   2   3   4\n",
      "0   5   6   7   8   9\n",
      "1   0   1   2   3   4\n",
      "2  10  11  12  13  14\n",
      "3  15  16  17  18  19\n",
      "4  20  21  22  23  24\n"
     ]
    }
   ],
   "source": [
    "import pandas as pd\n",
    "import numpy as np\n",
    "\n",
    "df = pd.DataFrame(np.arange(25).reshape(5, -1))\n",
    "\n",
    "print(df, \"\\n\")\n",
    "\n",
    "df.iloc[[0, 1]] = df.iloc[[1, 0]].values\n",
    "print(df)"
   ]
  },
  {
   "cell_type": "markdown",
   "metadata": {},
   "source": [
    "Упражнение 56"
   ]
  },
  {
   "cell_type": "code",
   "execution_count": 162,
   "metadata": {},
   "outputs": [
    {
     "name": "stdout",
     "output_type": "stream",
     "text": [
      "    0   1   2   3   4\n",
      "0   0   1   2   3   4\n",
      "1   5   6   7   8   9\n",
      "2  10  11  12  13  14\n",
      "3  15  16  17  18  19\n",
      "4  20  21  22  23  24 \n",
      "\n",
      "    0   1   2   3   4\n",
      "0  20  21  22  23  24\n",
      "1  15  16  17  18  19\n",
      "2  10  11  12  13  14\n",
      "3   5   6   7   8   9\n",
      "4   0   1   2   3   4\n"
     ]
    }
   ],
   "source": [
    "import pandas as pd\n",
    "import numpy as np\n",
    "\n",
    "df = pd.DataFrame(np.arange(25).reshape(5, -1))\n",
    "\n",
    "print(df, \"\\n\")\n",
    "\n",
    "print(df.iloc[::-1].reset_index(drop=True))"
   ]
  },
  {
   "cell_type": "markdown",
   "metadata": {},
   "source": [
    "Упражнение 57"
   ]
  },
  {
   "cell_type": "code",
   "execution_count": 167,
   "metadata": {},
   "outputs": [
    {
     "name": "stdout",
     "output_type": "stream",
     "text": [
      "    a   b   c   d   e\n",
      "0   0   1   2   3   4\n",
      "1   5   6   7   8   9\n",
      "2  10  11  12  13  14\n",
      "3  15  16  17  18  19\n",
      "4  20  21  22  23  24 \n",
      "\n",
      "   0  5  10  15  20   b   c   d   e\n",
      "0  1  0   0   0   0   1   2   3   4\n",
      "1  0  1   0   0   0   6   7   8   9\n",
      "2  0  0   1   0   0  11  12  13  14\n",
      "3  0  0   0   1   0  16  17  18  19\n",
      "4  0  0   0   0   1  21  22  23  24\n"
     ]
    }
   ],
   "source": [
    "import pandas as pd\n",
    "import numpy as np\n",
    "\n",
    "df = pd.DataFrame(np.arange(25).reshape(5,-1), columns=list('abcde'))\n",
    "\n",
    "print(df, \"\\n\")\n",
    "\n",
    "print(pd.concat([pd.get_dummies(df['a']).astype(int), df.drop(columns='a')], axis=1))\n"
   ]
  },
  {
   "cell_type": "markdown",
   "metadata": {},
   "source": [
    "Упражнение 58"
   ]
  },
  {
   "cell_type": "code",
   "execution_count": 174,
   "metadata": {},
   "outputs": [
    {
     "name": "stdout",
     "output_type": "stream",
     "text": [
      "    0   1   2   3\n",
      "0  29   5  45  71\n",
      "1  17  31  77  26\n",
      "2  74  96  40  31\n",
      "3  64   2  52  10\n",
      "4  73  11  73   2\n",
      "5  14  16  73  61\n",
      "6  96  93  82  15\n",
      "7  60  78  74   6\n",
      "8  27  58  64  40\n",
      "9  24  10  10  53 \n",
      "\n",
      "2\n"
     ]
    }
   ],
   "source": [
    "import pandas as pd\n",
    "import numpy as np\n",
    "\n",
    "def CountMax(column):\n",
    "    return (df.max(axis=1) == column).sum()\n",
    "\n",
    "df = pd.DataFrame(np.random.randint(1,100, 40).reshape(10, -1))\n",
    "\n",
    "print(df, \"\\n\")\n",
    "print(df.apply(CountMax).idxmax())"
   ]
  },
  {
   "cell_type": "markdown",
   "metadata": {},
   "source": [
    "Упражнение 59"
   ]
  },
  {
   "cell_type": "code",
   "execution_count": 179,
   "metadata": {},
   "outputs": [
    {
     "name": "stdout",
     "output_type": "stream",
     "text": [
      "    p   q   r   s\n",
      "a  83  99  61  55\n",
      "b  56  30  64  75\n",
      "c  21  44  88  93\n",
      "d  27   9  47  28\n",
      "e   4  38  44  19\n",
      "f  48  58   7  90\n",
      "g  32  74  79  74\n",
      "h  59  47  73  49\n",
      "i  54  76  85  36\n",
      "j  57  57  15  59 \n",
      "\n",
      "    p   q   r   s nearest_row       dist\n",
      "a  83  99  61  55           i  48.031240\n",
      "b  56  30  64  75           h  32.480764\n",
      "c  21  44  88  93           g  38.249183\n",
      "d  27   9  47  28           e  38.209946\n",
      "e   4  38  44  19           d  38.209946\n",
      "f  48  58   7  90           j  33.271610\n",
      "g  32  74  79  74           c  38.249183\n",
      "h  59  47  73  49           b  32.480764\n",
      "i  54  76  85  36           h  34.336569\n",
      "j  57  57  15  59           f  33.271610\n"
     ]
    }
   ],
   "source": [
    "\n",
    "import pandas as pd\n",
    "import numpy as np\n",
    "\n",
    "def EuclideanDistance(row1, row2):\n",
    "    return np.sqrt(np.sum((row1 - row2) ** 2))\n",
    "\n",
    "df = pd.DataFrame(np.random.randint(1,100, 40).reshape(10, -1),\n",
    "columns=list('pqrs'), index=list('abcdefghij'))\n",
    "\n",
    "print(df, '\\n')\n",
    "\n",
    "nearest_rows = []\n",
    "distances = []\n",
    "\n",
    "for index, row in df.iterrows():\n",
    "    min_distance = float('inf')\n",
    "    nearest_row = None\n",
    "    \n",
    "    for other_index, other_row in df.iterrows():\n",
    "        if index != other_index:\n",
    "            distance = EuclideanDistance(row, other_row)\n",
    "            if distance < min_distance:\n",
    "                min_distance = distance\n",
    "                nearest_row = other_index\n",
    "    \n",
    "    nearest_rows.append(nearest_row)\n",
    "    distances.append(min_distance)\n",
    "\n",
    "df['nearest_row'] = nearest_rows\n",
    "df['dist'] = distances\n",
    "\n",
    "print(df)"
   ]
  },
  {
   "cell_type": "markdown",
   "metadata": {},
   "source": [
    "Упражнение 60"
   ]
  },
  {
   "cell_type": "code",
   "execution_count": 198,
   "metadata": {},
   "outputs": [
    {
     "name": "stdout",
     "output_type": "stream",
     "text": [
      "    p   q   r   s   t   u   v   w   x   y\n",
      "a  37  44  12  36  22  62   5  95  29  35\n",
      "b  27  87  87  64  29   7   1  26  61  79\n",
      "c  15  46  41  23  78  58  65  23  98  85\n",
      "d  44  32  60  17  69  79   6  90  43  69\n",
      "e  28   3  78  72  15  66  64  91   3  41\n",
      "f  82   4  86  59  58  58  25  80  43  53\n",
      "g  99  97  98  37  81  81  93   7  52  96\n",
      "h  59  25  27  69  83  80  74  12  67  68 \n",
      "\n",
      "p    1.0\n",
      "q    1.0\n",
      "r    1.0\n",
      "s    1.0\n",
      "t    1.0\n",
      "u    1.0\n",
      "v    1.0\n",
      "w    1.0\n",
      "x    1.0\n",
      "y    1.0\n",
      "dtype: float64\n"
     ]
    }
   ],
   "source": [
    "import pandas as pd\n",
    "import numpy as np\n",
    "\n",
    "df = pd.DataFrame(np.random.randint(1,100, 80).reshape(8, -1),\n",
    "columns=list('pqrstuvwxy'), index=list('abcdefgh'))\n",
    "\n",
    "print(df, '\\n')\n",
    "\n",
    "print(df.corr().abs().max(axis= 1))"
   ]
  },
  {
   "cell_type": "markdown",
   "metadata": {},
   "source": [
    "Упражнение 61"
   ]
  },
  {
   "cell_type": "code",
   "execution_count": 202,
   "metadata": {},
   "outputs": [
    {
     "name": "stdout",
     "output_type": "stream",
     "text": [
      "    0   1   2   3   4   5   6   7   8   9\n",
      "0   3  87  51  71  19  34  75   8  69  94\n",
      "1  36  32  76  76  19  55  33  59   5  63\n",
      "2  10  47  42  37  10  67  31  52  99  82\n",
      "3  82  75  31  19  47  70  67  49  89  80\n",
      "4  12   8  44  41  35  52  40  20  50  30\n",
      "5  51   1  59  98   2  19  84  30  77  87\n",
      "6  68  68  77   1   7  80  30  85  61  51\n",
      "7  50  98  42   1  72  44  83  97  21  67 \n",
      "\n",
      "   Минимальные  Максимальные\n",
      "0            3            94\n",
      "1            5            76\n",
      "2           10            99\n",
      "3           19            89\n",
      "4            8            52\n",
      "5            1            98\n",
      "6            1            85\n",
      "7            1            98\n"
     ]
    }
   ],
   "source": [
    "import pandas as pd\n",
    "import numpy as np\n",
    "\n",
    "df = pd.DataFrame(np.random.randint(1,100, 80).reshape(8, -1))\n",
    "\n",
    "print(df, '\\n')\n",
    "\n",
    "print(pd.DataFrame({'Минимальные': df.min(axis= 1), 'Максимальные': df.max(axis= 1)}))"
   ]
  },
  {
   "cell_type": "markdown",
   "metadata": {},
   "source": [
    "Упражнение 62"
   ]
  },
  {
   "cell_type": "code",
   "execution_count": 208,
   "metadata": {},
   "outputs": [
    {
     "name": "stdout",
     "output_type": "stream",
     "text": [
      "    0   1   2   3   4   5   6   7   8   9\n",
      "0  83  55   8  88  92  31  90  23  63  27\n",
      "1   1  38  93   1  32  40  70  29  41  61\n",
      "2  67  13  75  30   2  30  25  86  67  71\n",
      "3  99  62  39  72  76  82  22  85  49  24\n",
      "4  55  53  64  61  66   3  33  62  37  66\n",
      "5  48  76  36  67  86  44  46  86  21  74\n",
      "6  71  36  41  37  81  62  50  76   3  61\n",
      "7  68   7  96  41  39   3  80  55  31  95 \n",
      "\n",
      "    0   1   2   3   4   5   6   7   8   9  penultimate\n",
      "0  83  55   8  88  92  31  90  23  63  27           90\n",
      "1   1  38  93   1  32  40  70  29  41  61           70\n",
      "2  67  13  75  30   2  30  25  86  67  71           75\n",
      "3  99  62  39  72  76  82  22  85  49  24           85\n",
      "4  55  53  64  61  66   3  33  62  37  66           66\n",
      "5  48  76  36  67  86  44  46  86  21  74           86\n",
      "6  71  36  41  37  81  62  50  76   3  61           76\n",
      "7  68   7  96  41  39   3  80  55  31  95           95\n"
     ]
    }
   ],
   "source": [
    "import pandas as pd\n",
    "import numpy as np\n",
    "\n",
    "df = pd.DataFrame(np.random.randint(1,100, 80).reshape(8, -1))\n",
    "\n",
    "print(df, '\\n')\n",
    "\n",
    "df['penultimate'] = df.apply(lambda x: x.nlargest(2).iloc[-1], axis=1)\n",
    "\n",
    "print(df)"
   ]
  },
  {
   "cell_type": "markdown",
   "metadata": {},
   "source": [
    "Упражнение 63"
   ]
  },
  {
   "cell_type": "code",
   "execution_count": 215,
   "metadata": {},
   "outputs": [
    {
     "name": "stdout",
     "output_type": "stream",
     "text": [
      "    0   1   2   3   4   5   6   7   8   9\n",
      "0  27  60  64   7  10  49   4  95  91  93\n",
      "1  53  62  94  97  31  63  23  82  68  61\n",
      "2  88  31   5  71  18  58  12  75  87  88\n",
      "3  12  17  87  10  22  17  77  18  32  72\n",
      "4  58  60  24  36   5  21  26  58  77  58\n",
      "5  64  86  49  79  89   8  42  14   1  58\n",
      "6  56  81   6  21   5  43  21  36  96  95\n",
      "7  52  93  17  30  80   5  59  72  14  53 \n",
      "\n",
      "Нормализованный DataFrame:\n",
      "          0         1         2         3         4         5         6  \\\n",
      "0 -1.052856 -0.047306  0.583129 -1.085574 -0.674470  0.696877 -1.174451   \n",
      "1  0.075979  0.028384  1.426207  1.563962 -0.044965  1.306643 -0.404983   \n",
      "2  1.595566 -1.144804 -1.074924  0.798541 -0.434659  1.088870 -0.850464   \n",
      "3 -1.704107 -1.674630  1.229488 -0.997256 -0.314753 -0.696877  1.781925   \n",
      "4  0.293063 -0.047306 -0.540975 -0.231834 -0.824353 -0.522657 -0.283488   \n",
      "5  0.553564  0.936658  0.161590  1.034055  1.693670 -1.088870  0.364485   \n",
      "6  0.206230  0.747434 -1.046822 -0.673424 -0.824353  0.435548 -0.485980   \n",
      "7  0.032563  1.201571 -0.737693 -0.408470  1.423882 -1.219534  1.052956   \n",
      "\n",
      "          7         8         9  \n",
      "0  1.278990  0.879985  1.198144  \n",
      "1  0.849910  0.261980 -0.649596  \n",
      "2  0.618866  0.772506  0.909435  \n",
      "3 -1.262487 -0.705331 -0.014435  \n",
      "4  0.057761  0.503808 -0.822822  \n",
      "5 -1.394512 -1.538294 -0.822822  \n",
      "6 -0.668376  1.014334  1.313628  \n",
      "7  0.519848 -1.188987 -1.111532  \n",
      "\n",
      "Ранжированный DataFrame:\n",
      "          0         1         2         3         4         5         6  \\\n",
      "0  0.197368  0.565789  0.662921  0.000000  0.059524  0.758621  0.000000   \n",
      "1  0.539474  0.592105  1.000000  1.000000  0.309524  1.000000  0.260274   \n",
      "2  1.000000  0.184211  0.000000  0.711111  0.154762  0.913793  0.109589   \n",
      "3  0.000000  0.000000  0.921348  0.033333  0.202381  0.206897  1.000000   \n",
      "4  0.605263  0.565789  0.213483  0.322222  0.000000  0.275862  0.301370   \n",
      "5  0.684211  0.907895  0.494382  0.800000  1.000000  0.051724  0.520548   \n",
      "6  0.578947  0.842105  0.011236  0.155556  0.000000  0.655172  0.232877   \n",
      "7  0.526316  1.000000  0.134831  0.255556  0.892857  0.000000  0.753425   \n",
      "\n",
      "          7         8         9  \n",
      "0  1.000000  0.947368  0.952381  \n",
      "1  0.839506  0.705263  0.190476  \n",
      "2  0.753086  0.905263  0.833333  \n",
      "3  0.049383  0.326316  0.452381  \n",
      "4  0.543210  0.800000  0.119048  \n",
      "5  0.000000  0.000000  0.119048  \n",
      "6  0.271605  1.000000  1.000000  \n",
      "7  0.716049  0.136842  0.000000  \n"
     ]
    }
   ],
   "source": [
    "import pandas as pd\n",
    "import numpy as np\n",
    "\n",
    "df = pd.DataFrame(np.random.randint(1,100, 80).reshape(8, -1))\n",
    "\n",
    "print(df, '\\n') \n",
    "\n",
    "print(\"Нормализованный DataFrame:\")\n",
    "print((df - df.mean()) / df.std())\n",
    "print(\"\\nРанжированный DataFrame:\")\n",
    "print((df - df.min()) / (df.max() - df.min()))\n"
   ]
  },
  {
   "cell_type": "markdown",
   "metadata": {},
   "source": [
    "Упражнение 64"
   ]
  },
  {
   "cell_type": "code",
   "execution_count": 216,
   "metadata": {},
   "outputs": [
    {
     "name": "stdout",
     "output_type": "stream",
     "text": [
      "    0   1   2   3   4   5   6   7   8   9\n",
      "0  60  20   5  37  86  38  90  94  20  66\n",
      "1  21   2   5  86  56  73  85  10   8  77\n",
      "2  51  88  40  43  75   5  30  21  64  78\n",
      "3  82  49  69  55  26  71  74  23  46  88\n",
      "4  24  45  43  91  92  28  62  27  23  90\n",
      "5  51  93  75  80  42   3   8  53  33   8\n",
      "6  32  33   8  86  19  13  49  18  32  73\n",
      "7  19   1  85   1  70  37  46  21  89  61 \n",
      "\n",
      "   Correlation\n",
      "0     0.392315\n",
      "1    -0.223776\n",
      "2    -0.078496\n",
      "3     0.017839\n",
      "4    -0.017575\n",
      "5    -0.025023\n",
      "6    -0.324334\n"
     ]
    }
   ],
   "source": [
    "import pandas as pd\n",
    "import numpy as np\n",
    "\n",
    "df = pd.DataFrame(np.random.randint(1,100, 80).reshape(8, -1))\n",
    "\n",
    "print(df, '\\n') \n",
    "\n",
    "correlations = []\n",
    "\n",
    "for i in range(len(df) - 1):\n",
    "    correlations.append(df.iloc[i].corr(df.iloc[i + 1]))\n",
    "\n",
    "print(pd.DataFrame(correlations, columns=['Correlation']))\n"
   ]
  },
  {
   "cell_type": "markdown",
   "metadata": {},
   "source": [
    "Упражнение 65"
   ]
  },
  {
   "cell_type": "code",
   "execution_count": 217,
   "metadata": {},
   "outputs": [
    {
     "name": "stdout",
     "output_type": "stream",
     "text": [
      "    0   1   2   3   4   5   6   7   8   9\n",
      "0  61  64  16  85  72  20  65  33  22  79\n",
      "1  49  19  96  73  58  43  46  81  73  69\n",
      "2  94  18  23  77  70  68  71  53  30  71\n",
      "3  38   8  21   9  23  28  32  48  68  43\n",
      "4  94  64  60  28  53  28  56  58  67  40\n",
      "5  63  51  91  43  95   7  62   9  92  33\n",
      "6  33  34  42  47  12  59  27  30  10  70\n",
      "7  76  93  46  26   6  18  27  73  28  50\n",
      "8  29   5  24  80  78  44  84  55   2  15\n",
      "9  36   8  43  48  91  29  81  89  35  73 \n",
      "\n",
      "    0   1   2   3   4   5   6   7   8   9\n",
      "0   0  64  16  85  72  20  65  33  22   0\n",
      "1  49   0  96  73  58  43  46  81   0  69\n",
      "2  94  18   0  77  70  68  71   0  30  71\n",
      "3  38   8  21   0  23  28   0  48  68  43\n",
      "4  94  64  60  28   0   0  56  58  67  40\n",
      "5  63  51  91  43   0   0  62   9  92  33\n",
      "6  33  34  42   0  12  59   0  30  10  70\n",
      "7  76  93   0  26   6  18  27   0  28  50\n",
      "8  29   0  24  80  78  44  84  55   0  15\n",
      "9   0   8  43  48  91  29  81  89  35   0\n"
     ]
    }
   ],
   "source": [
    "import pandas as pd\n",
    "import numpy as np\n",
    "\n",
    "df = pd.DataFrame(np.random.randint(1,100, 100).reshape(10, -1))\n",
    "\n",
    "print(df, '\\n')\n",
    "\n",
    "np.fill_diagonal(df.values, 0)\n",
    "\n",
    "np.fill_diagonal(np.fliplr(df.values), 0)\n",
    "\n",
    "print(df)\n"
   ]
  },
  {
   "cell_type": "markdown",
   "metadata": {},
   "source": [
    "Упражнение 66"
   ]
  },
  {
   "cell_type": "code",
   "execution_count": 221,
   "metadata": {},
   "outputs": [
    {
     "name": "stdout",
     "output_type": "stream",
     "text": [
      "<pandas.core.groupby.generic.DataFrameGroupBy object at 0x000002A8746EBA10> \n",
      "\n",
      "    col1      col2  col3\n",
      "0  apple  0.196934     7\n",
      "1  apple  0.902614     5\n",
      "2  apple  0.519363     2\n"
     ]
    },
    {
     "name": "stderr",
     "output_type": "stream",
     "text": [
      "C:\\Users\\Максим\\AppData\\Local\\Temp\\ipykernel_11760\\3168558208.py:12: FutureWarning: When grouping with a length-1 list-like, you will need to pass a length-1 tuple to get_group in a future version of pandas. Pass `(name,)` instead of `name` to silence this warning.\n",
      "  print(df_grouped.get_group('apple').reset_index(drop=True))\n"
     ]
    }
   ],
   "source": [
    "import pandas as pd\n",
    "import numpy as np\n",
    "\n",
    "df = pd.DataFrame({'col1': ['apple', 'banana', 'orange'] * 3,\n",
    "'col2': np.random.rand(9),\n",
    "'col3': np.random.randint(0, 15, 9)})\n",
    "\n",
    "df_grouped = df.groupby(['col1'])\n",
    "\n",
    "print(df_grouped, '\\n')\n",
    "\n",
    "print(df_grouped.get_group('apple').reset_index(drop=True))"
   ]
  },
  {
   "cell_type": "markdown",
   "metadata": {},
   "source": [
    "Упражнение 67"
   ]
  },
  {
   "cell_type": "code",
   "execution_count": 228,
   "metadata": {},
   "outputs": [
    {
     "name": "stdout",
     "output_type": "stream",
     "text": [
      "    fruit    rating  price\n",
      "0   apple  0.199295      3\n",
      "1  banana  0.088555      0\n",
      "2  orange  0.870275      9\n",
      "3   apple  0.948015     14\n",
      "4  banana  0.230616     14\n",
      "5  orange  0.101714      8\n",
      "6   apple  0.535661     13\n",
      "7  banana  0.139217     11\n",
      "8  orange  0.958386      7 \n",
      "\n",
      "Ответ: 0.139216653752662\n"
     ]
    }
   ],
   "source": [
    "import pandas as pd\n",
    "import numpy as np\n",
    "\n",
    "df = pd.DataFrame({'fruit': ['apple', 'banana', 'orange'] * 3,\n",
    "'rating': np.random.rand(9),\n",
    "'price': np.random.randint(0, 15, 9)})\n",
    "\n",
    "print(df, '\\n')\n",
    "\n",
    "ratings = df[df['fruit'] == 'banana']['rating']\n",
    "\n",
    "print(f\"Ответ: {df[df['fruit'] == 'banana']['rating'].nlargest(2).iloc[-1]}\")"
   ]
  },
  {
   "cell_type": "markdown",
   "metadata": {},
   "source": [
    "Упражнение 68"
   ]
  },
  {
   "cell_type": "code",
   "execution_count": 232,
   "metadata": {},
   "outputs": [
    {
     "name": "stdout",
     "output_type": "stream",
     "text": [
      "    fruit    rating  price\n",
      "0   apple  0.571390     13\n",
      "1  banana  0.522150      7\n",
      "2  orange  0.886940     11\n",
      "3   apple  0.095358      8\n",
      "4  banana  0.733830      9\n",
      "5  orange  0.942227      6\n",
      "6   apple  0.878131      0\n",
      "7  banana  0.185001      5\n",
      "8  orange  0.987441     11 \n",
      "\n",
      "    fruit  average_price\n",
      "0   apple       7.000000\n",
      "1  banana       7.000000\n",
      "2  orange       9.333333\n"
     ]
    }
   ],
   "source": [
    "import pandas as pd\n",
    "import numpy as np\n",
    "\n",
    "df = pd.DataFrame({'fruit': ['apple', 'banana', 'orange'] * 3,\n",
    "'rating': np.random.rand(9),\n",
    "'price': np.random.randint(0, 15, 9)})\n",
    "\n",
    "print(df, '\\n')\n",
    "\n",
    "price = df.groupby('fruit')['price'].mean().reset_index()\n",
    "\n",
    "price.columns = ['fruit', 'average_price']\n",
    "\n",
    "print(price)"
   ]
  },
  {
   "cell_type": "markdown",
   "metadata": {},
   "source": [
    "Упражнение 69"
   ]
  },
  {
   "cell_type": "code",
   "execution_count": 241,
   "metadata": {},
   "outputs": [
    {
     "name": "stdout",
     "output_type": "stream",
     "text": [
      "    fruit  weight  price\n",
      "0   apple    high      6\n",
      "1  banana  medium      5\n",
      "2  orange     low      7\n",
      "3   apple    high      0\n",
      "4  banana  medium      0\n",
      "5  orange     low     12\n",
      "6   apple    high      1\n",
      "7  banana  medium      2\n",
      "8  orange     low      2 \n",
      "\n",
      "   pazham  kilo  price\n",
      "0   apple  high      9\n",
      "1  orange   low      1\n",
      "2    pine  high     12\n",
      "3   apple   low     14\n",
      "4  orange  high      9\n",
      "5    pine   low     10 \n",
      "\n",
      "    fruit weight  price_x  pazham  kilo  price_y\n",
      "0   apple   high        6   apple  high        9\n",
      "1  orange    low        7  orange   low        1\n",
      "2   apple   high        0   apple  high        9\n",
      "3  orange    low       12  orange   low        1\n",
      "4   apple   high        1   apple  high        9\n",
      "5  orange    low        2  orange   low        1\n"
     ]
    }
   ],
   "source": [
    "import pandas as pd\n",
    "import numpy as np\n",
    "\n",
    "df1 = pd.DataFrame({'fruit': ['apple', 'banana', 'orange'] * 3,\n",
    "'weight': ['high', 'medium', 'low'] * 3,\n",
    "'price': np.random.randint(0, 15, 9)})\n",
    "\n",
    "print(df1, '\\n')\n",
    "\n",
    "df2 = pd.DataFrame({'pazham': ['apple', 'orange', 'pine'] * 2,\n",
    "'kilo': ['high', 'low'] * 3,\n",
    "'price': np.random.randint(0, 15, 6)})\n",
    "\n",
    "print(df2, '\\n')\n",
    "\n",
    "print(pd.merge(df1, df2, left_on=['fruit', 'weight'], right_on=['pazham', 'kilo'], how='inner'))"
   ]
  },
  {
   "cell_type": "markdown",
   "metadata": {},
   "source": [
    "Упражнение 70"
   ]
  },
  {
   "cell_type": "code",
   "execution_count": 245,
   "metadata": {},
   "outputs": [
    {
     "name": "stdout",
     "output_type": "stream",
     "text": [
      "    a   b   c   d\n",
      "0   1  92  56  31\n",
      "1  26  38  40  21\n",
      "2  76  77  26  81\n",
      "3  41  25   8   3\n",
      "4  89   4  85  45 \n",
      "\n",
      "    a   b   c   d  a_lag1  b_lead1\n",
      "0   1  92  56  31     NaN     38.0\n",
      "1  26  38  40  21     1.0     77.0\n",
      "2  76  77  26  81    26.0     25.0\n",
      "3  41  25   8   3    76.0      4.0\n",
      "4  89   4  85  45    41.0      NaN\n"
     ]
    }
   ],
   "source": [
    "import pandas as pd\n",
    "import numpy as np\n",
    "\n",
    "df = pd.DataFrame(np.random.randint(1, 100, 20).reshape(-1, 4), columns =\n",
    "list('abcd'))\n",
    "\n",
    "print(df, '\\n')\n",
    "\n",
    "df['a_lag1'] = df['a'].shift(1)\n",
    "df['b_lead1'] = df['b'].shift(-1)\n",
    "\n",
    "print(df)"
   ]
  },
  {
   "cell_type": "markdown",
   "metadata": {},
   "source": [
    "Упражнение 71"
   ]
  },
  {
   "cell_type": "code",
   "execution_count": 250,
   "metadata": {},
   "outputs": [
    {
     "name": "stdout",
     "output_type": "stream",
     "text": [
      "   a  b  c  d\n",
      "0  5  9  4  3\n",
      "1  9  8  2  1\n",
      "2  1  6  2  7\n",
      "3  7  1  3  7\n",
      "4  8  9  8  9 \n",
      "\n",
      "     a    b    c    d\n",
      "1  1.0  1.0  0.0  1.0\n",
      "2  0.0  0.0  2.0  0.0\n",
      "3  0.0  0.0  1.0  1.0\n",
      "4  0.0  0.0  1.0  0.0\n",
      "5  1.0  0.0  0.0  0.0\n",
      "6  0.0  1.0  0.0  0.0\n",
      "7  1.0  0.0  0.0  2.0\n",
      "8  1.0  1.0  1.0  0.0\n",
      "9  1.0  2.0  0.0  1.0\n"
     ]
    }
   ],
   "source": [
    "import pandas as pd\n",
    "import numpy as np\n",
    "\n",
    "df = pd.DataFrame(np.random.randint(1, 10, 20).reshape(-1, 4), columns =\n",
    "list('abcd'))\n",
    "\n",
    "print(df, '\\n')\n",
    "\n",
    "print(df.apply(pd.Series.value_counts).fillna(0))"
   ]
  },
  {
   "cell_type": "markdown",
   "metadata": {},
   "source": [
    "Упражнение 72"
   ]
  },
  {
   "cell_type": "code",
   "execution_count": 254,
   "metadata": {},
   "outputs": [
    {
     "name": "stdout",
     "output_type": "stream",
     "text": [
      "                        row\n",
      "0          STD, City, State\n",
      "1  33, Kolkata, West Bengal\n",
      "2   44, Chennai, Tamil Nadu\n",
      "3  40, Hyderabad, Telengana\n",
      "4  80, Bangalore, Karnataka \n",
      "\n",
      "  STD       City        State\n",
      "0  33    Kolkata  West Bengal\n",
      "1  44    Chennai   Tamil Nadu\n",
      "2  40  Hyderabad    Telengana\n",
      "3  80  Bangalore    Karnataka\n"
     ]
    }
   ],
   "source": [
    "import pandas as pd\n",
    "\n",
    "df = pd.DataFrame([\"STD, City, State\",\n",
    "\"33, Kolkata, West Bengal\",\n",
    "\"44, Chennai, Tamil Nadu\",\n",
    "\"40, Hyderabad, Telengana\",\n",
    "\"80, Bangalore, Karnataka\"], columns=['row'])\n",
    "\n",
    "print(df, '\\n')\n",
    "\n",
    "df[['STD', 'City', 'State']] = df['row'].str.split(',', expand=True)\n",
    "\n",
    "df['City'] = df['City'].str.strip()\n",
    "df['State'] = df['State'].str.strip()\n",
    "\n",
    "df = df.drop(columns=['row'])\n",
    "df = df.drop(index=0).reset_index()\n",
    "df = df.drop(columns=['index'])\n",
    "\n",
    "print(df)"
   ]
  }
 ],
 "metadata": {
  "kernelspec": {
   "display_name": "Python 3",
   "language": "python",
   "name": "python3"
  },
  "language_info": {
   "codemirror_mode": {
    "name": "ipython",
    "version": 3
   },
   "file_extension": ".py",
   "mimetype": "text/x-python",
   "name": "python",
   "nbconvert_exporter": "python",
   "pygments_lexer": "ipython3",
   "version": "3.13.0"
  }
 },
 "nbformat": 4,
 "nbformat_minor": 2
}
